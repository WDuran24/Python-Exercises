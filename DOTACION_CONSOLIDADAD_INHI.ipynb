{
 "cells": [
  {
   "cell_type": "code",
   "execution_count": 1,
   "id": "41e10c17-ebc3-469f-9db0-9d38c4579a1e",
   "metadata": {},
   "outputs": [
    {
     "name": "stderr",
     "output_type": "stream",
     "text": [
      "C:\\Users\\wduran\\AppData\\Local\\Temp\\ipykernel_8448\\500914925.py:4: DtypeWarning: Columns (0) have mixed types. Specify dtype option on import or set low_memory=False.\n",
      "  ini_completas_df = pd.read_csv(r'C:\\Users\\wduran\\Downloads\\ini_COMPLETAS.csv', sep=';')\n"
     ]
    }
   ],
   "source": [
    "import pandas as pd\n",
    "\n",
    "# Cargar el dataframe desde el archivo CSV\n",
    "ini_completas_df = pd.read_csv(r'C:\\Users\\wduran\\Downloads\\ini_COMPLETAS.csv', sep=';')\n",
    "\n",
    "# Cargar el dataframe desde el archivo Excel\n",
    "dotacion_df = pd.read_excel(r'C:\\Users\\wduran\\Downloads\\Dotacion Consolidada completa.xlsx')\n",
    "\n",
    "# Limpiar los nombres de las columnas\n",
    "ini_completas_df.columns = ini_completas_df.columns.str.strip()\n",
    "dotacion_df.columns = dotacion_df.columns.str.strip()\n",
    "\n",
    "# Crear una nueva columna en ambos dataframes para la concatenación de mes y año\n",
    "ini_completas_df['MES_ANO'] = ini_completas_df['MES'].astype(str) + '-' + ini_completas_df['ANO'].astype(str)\n",
    "dotacion_df['MES_ANO'] = dotacion_df['MES'].astype(str) + '-' + dotacion_df['ANO'].astype(str)\n",
    "\n",
    "# Realizar el join en base a USUARIO y MES_ANO\n",
    "merged_df = ini_completas_df.merge(\n",
    "    dotacion_df[['USUARIO', 'MES_ANO', 'Categoria']],\n",
    "    how='left',\n",
    "    on=['USUARIO', 'MES_ANO']\n",
    ")\n",
    "# Función para excluir la categoría 'Cobranza'\n",
    "#def excluir_cobranza(row):\n",
    "    #return row['Categoria'] != 'Cobranza'\n",
    "# Aplicar la función para excluir la categoría 'Cobranza'\n",
    "#merged_df = merged_df[merged_df.apply(excluir_cobranza, axis=1)]\n",
    "\n",
    "#Eliminar registros duplicados en base a todas las columnas\n",
    "merged_df = merged_df.drop_duplicates()\n",
    "# Guardar el resultado en un nuevo archivo CSV\n",
    "merged_df.to_csv(r'C:\\Users\\wduran\\Downloads\\Inhibiciones Completas.csv', index=False,sep=';')\n"
   ]
  },
  {
   "cell_type": "code",
   "execution_count": 2,
   "id": "e09ab713-fc18-48f4-8651-92d1217cacc1",
   "metadata": {},
   "outputs": [],
   "source": [
    "# Generar reporte de inhiciones fuera de plazo para envio a canales "
   ]
  },
  {
   "cell_type": "code",
   "execution_count": 16,
   "id": "94d8b73f-16a3-4ceb-8bdb-8176d3aeba15",
   "metadata": {},
   "outputs": [],
   "source": [
    "import pandas as pd\n",
    "\n",
    "def filtrar_inhibiciones_completas(archivo_csv,categoria, plazo_minimo, mes, año):\n",
    "    # Leer el archivo CSV\n",
    "    df = pd.read_csv(r'C:\\Users\\wduran\\Downloads\\Inhibiciones Completas.csv',sep=';')\n",
    "    \n",
    "    # Aplicar los filtros\n",
    "    df_filtrado = df[(df['Categoria'] == categoria) & (df['PLAZO_INHIB'] > plazo_minimo)&(df['MES']==mes)&(df['ANO']==año)]\n",
    "    \n",
    "    # Opcional: Agregar filtro por mes y año\n",
    "    # df_filtrado = df_filtrado[(df_filtrado['FECHA'].dt.month == mes) & (df_filtrado['FECHA'].dt.year == año)]\n",
    "    \n",
    "    # Guardar el resultado en un archivo Excel\n",
    "    nombre_archivo_excel = f\"Inhibiciones_canales{categoria}_{plazo_minimo}+_mes{mes}_año{año}.xlsx\"\n",
    "    df_filtrado.to_excel(nombre_archivo_excel, index=False)\n",
    "    \n",
    "    archivo_csv = r'C:\\Users\\wduran\\Downloads\\Inhibiciones Completas.csv'\n",
    "    categoria = 'Call Center'\n",
    "    plazo_minimo = 6\n",
    "    mes = 1\n",
    "    año = 2024"
   ]
  },
  {
   "cell_type": "code",
   "execution_count": 17,
   "id": "e96f7bad-7c7f-426a-819b-af7a53f8b2ea",
   "metadata": {},
   "outputs": [
    {
     "name": "stderr",
     "output_type": "stream",
     "text": [
      "C:\\Users\\wduran\\AppData\\Local\\Temp\\ipykernel_8448\\3160105672.py:5: DtypeWarning: Columns (0) have mixed types. Specify dtype option on import or set low_memory=False.\n",
      "  df = pd.read_csv(r'C:\\Users\\wduran\\Downloads\\Inhibiciones Completas.csv',sep=';')\n"
     ]
    }
   ],
   "source": [
    "filtrar_inhibiciones_completas(archivo_csv, categoria, plazo_minimo, mes, año)\n"
   ]
  },
  {
   "cell_type": "code",
   "execution_count": null,
   "id": "14f97168-9531-4ea4-af8a-a4b70490e446",
   "metadata": {},
   "outputs": [],
   "source": []
  }
 ],
 "metadata": {
  "kernelspec": {
   "display_name": "Python 3 (ipykernel)",
   "language": "python",
   "name": "python3"
  },
  "language_info": {
   "codemirror_mode": {
    "name": "ipython",
    "version": 3
   },
   "file_extension": ".py",
   "mimetype": "text/x-python",
   "name": "python",
   "nbconvert_exporter": "python",
   "pygments_lexer": "ipython3",
   "version": "3.11.5"
  }
 },
 "nbformat": 4,
 "nbformat_minor": 5
}
