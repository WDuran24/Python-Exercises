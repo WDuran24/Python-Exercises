{
 "cells": [
  {
   "cell_type": "code",
   "execution_count": 6,
   "id": "41e10c17-ebc3-469f-9db0-9d38c4579a1e",
   "metadata": {},
   "outputs": [],
   "source": [
    "import pandas as pd\n",
    "\n",
    "# Cargar el dataframe desde el archivo CSV\n",
    "ini_completas_df = pd.read_excel(r'C:\\Users\\wduran\\Downloads\\ini_COMPLETAS.xlsx')\n",
    "\n",
    "# Cargar el dataframe desde el archivo Excel\n",
    "dotacion_df = pd.read_excel(r'C:\\Users\\wduran\\Downloads\\Dotacion Consolidada completa.xlsx')\n",
    "\n",
    "# Limpiar los nombres de las columnas\n",
    "ini_completas_df.columns = ini_completas_df.columns.str.strip()\n",
    "dotacion_df.columns = dotacion_df.columns.str.strip()\n",
    "\n",
    "# Crear una nueva columna en ambos dataframes para la concatenación de mes y año\n",
    "ini_completas_df['MES_ANO'] = ini_completas_df['MES'].astype(str) + '-' + ini_completas_df['ANO'].astype(str)\n",
    "dotacion_df['MES_ANO'] = dotacion_df['MES'].astype(str) + '-' + dotacion_df['ANO'].astype(str)\n",
    "\n",
    "# Realizar el join en base a USUARIO y MES_ANO\n",
    "merged_df = ini_completas_df.merge(\n",
    "    dotacion_df[['USUARIO', 'MES_ANO', 'Categoria']],\n",
    "    how='left',\n",
    "    on=['USUARIO', 'MES_ANO']\n",
    ")\n",
    "# Función para excluir la categoría 'Cobranza'\n",
    "def excluir_cobranza(row):\n",
    "    return row['Categoria'] != 'Cobranza'\n",
    "# Aplicar la función para excluir la categoría 'Cobranza'\n",
    "merged_df = merged_df[merged_df.apply(excluir_cobranza, axis=1)]\n",
    "\n",
    "# Función para excluir los registros donde el campo 'CUENTA' comience con la letra 'B'\n",
    "def excluir_cuentas_con_b(row):\n",
    "    cuenta = str(row['CUENTA'])  # Convertir el valor a cadena de texto\n",
    "    return not cuenta.startswith('B')\n",
    "\n",
    "# Aplicar la función para excluir los registros donde el campo 'CUENTA' comience con la letra 'B'\n",
    "merged_df = merged_df[merged_df.apply(excluir_cuentas_con_b, axis=1)]\n",
    "\n",
    "#Eliminar registros duplicados en base a todas las columnas\n",
    "merged_df = merged_df.drop_duplicates()\n",
    "# Guardar el resultado en un nuevo archivo CSV\n",
    "merged_df.to_csv(r'C:\\Users\\wduran\\Downloads\\Inhibiciones Completas.csv', index=False,sep=';')\n"
   ]
  },
  {
   "cell_type": "code",
   "execution_count": null,
   "id": "e09ab713-fc18-48f4-8651-92d1217cacc1",
   "metadata": {},
   "outputs": [],
   "source": [
    "# Generar reporte de inhibiciones fuera de plazo para envio a canales "
   ]
  },
  {
   "cell_type": "code",
   "execution_count": null,
   "id": "94d8b73f-16a3-4ceb-8bdb-8176d3aeba15",
   "metadata": {},
   "outputs": [],
   "source": [
    "import pandas as pd\n",
    "\n",
    "def filtrar_inhibiciones_completas(archivo_csv,categoria, plazo_minimo, mes, año):\n",
    "    # Leer el archivo CSV\n",
    "    df = pd.read_csv(r'C:\\Users\\wduran\\Downloads\\Inhibiciones Completas.csv',sep=';')\n",
    "    \n",
    "    # Aplicar los filtros\n",
    "    df_filtrado = df[(df['Categoria'] == categoria) & (df['PLAZO_INHIB'] > plazo_minimo)&(df['MES']==mes)&(df['ANO']==año)]\n",
    "    \n",
    "    # Opcional: Agregar filtro por mes y año\n",
    "    # df_filtrado = df_filtrado[(df_filtrado['FECHA'].dt.month == mes) & (df_filtrado['FECHA'].dt.year == año)]\n",
    "    \n",
    "    # Guardar el resultado en un archivo Excel\n",
    "    nombre_archivo_excel = f\"Inhibiciones_canales{categoria}_{plazo_minimo}+_mes{mes}_año{año}.xlsx\"\n",
    "    df_filtrado.to_excel(nombre_archivo_excel, index=False)\n",
    "    \n",
    "    archivo_csv = r'C:\\Users\\wduran\\Downloads\\Inhibiciones Completas.csv'\n",
    "    categoria = 'Sucursal'\n",
    "    plazo_minimo = 6\n",
    "    mes = 1\n",
    "    año = 2024"
   ]
  },
  {
   "cell_type": "code",
   "execution_count": null,
   "id": "e96f7bad-7c7f-426a-819b-af7a53f8b2ea",
   "metadata": {},
   "outputs": [],
   "source": [
    "filtrar_inhibiciones_completas(archivo_csv, categoria, plazo_minimo, mes, año)\n"
   ]
  },
  {
   "cell_type": "code",
   "execution_count": null,
   "id": "14f97168-9531-4ea4-af8a-a4b70490e446",
   "metadata": {},
   "outputs": [],
   "source": [
    "import pandas as pd"
   ]
  },
  {
   "cell_type": "code",
   "execution_count": null,
   "id": "5f89a79a-3318-42ca-b549-ded7a66a86d1",
   "metadata": {},
   "outputs": [],
   "source": [
    "tablae = pd.read_csv((r\"C:\\Users\\wduran\\CLAROCHILE\\Nicoll Constanza Aguirre Diaz - dcabello\\Isa\\Análisis tablaE\\Stock productos VTR\\Resultados\\tablaE_productos_VTR_20231130.csv\"),sep=\",\",encoding='latin-1')\n",
    "rutactivos = pd.read_excel(r\"C:\\Users\\wduran\\Downloads\\RUT ACTIVOS 30012024.xlsx\")\n",
    "\n"
   ]
  },
  {
   "cell_type": "code",
   "execution_count": null,
   "id": "485583b4-f392-43b3-b9df-9df63c05ed6e",
   "metadata": {},
   "outputs": [],
   "source": [
    "import pandas as pd\n",
    "\n",
    "# Leer el archivo CSV utilizando el encoding latin-1\n",
    "tablae = pd.read_csv(r\"C:\\Users\\wduran\\CLAROCHILE\\Nicoll Constanza Aguirre Diaz - dcabello\\Isa\\Análisis tablaE\\Stock productos VTR\\Resultados\\tablaE_productos_VTR_20231130.csv\", sep=\",\", encoding='latin-1')\n",
    "\n",
    "# Leer el archivo Excel\n",
    "rutactivos = pd.read_excel(r\"C:\\Users\\wduran\\Downloads\\RUT ACTIVOS 30012024.xlsx\")\n",
    "\n",
    "# Realizar el join utilizando el campo RUT_PERSONA\n",
    "merged_table = tablae.merge(rutactivos, on='RUT_PERSONA', how='inner')\n",
    "\n",
    "# Imprimir el resultado del join\n",
    "print(merged_table)\n",
    "# Guardar el archivo final en Excel\n",
    "merged_table.to_excel(r\"C:\\Users\\wduran\\Downloads\\merged_table.xlsx\", index=False)\n"
   ]
  },
  {
   "cell_type": "code",
   "execution_count": null,
   "id": "27205502-e6a0-4ae7-ac99-1231610bd23a",
   "metadata": {},
   "outputs": [],
   "source": [
    "rutactivos = pd.read_excel(r\"C:\\Users\\wduran\\Downloads\\RUT ACTIVOS 30012024.xlsx\")\n",
    "nocruce = pd.read_csv(r\"C:\\Users\\wduran\\Downloads\\nocruce.csv\", sep=\",\", encoding='latin-1')\n"
   ]
  },
  {
   "cell_type": "code",
   "execution_count": null,
   "id": "64314a2d-c3c9-4ce7-97ec-1656afeb2ffe",
   "metadata": {},
   "outputs": [],
   "source": [
    "import pandas as pd\n",
    "\n",
    "# Leer el archivo Excel\n",
    "rutactivos = pd.read_excel(r\"C:\\Users\\wduran\\Downloads\\RUT ACTIVOS 30012024.xlsx\")\n",
    "\n",
    "# Leer el archivo CSV utilizando el encoding latin-1\n",
    "nocruce = pd.read_csv(r\"C:\\Users\\wduran\\Downloads\\nocruce.csv\", sep=\",\", encoding='latin-1')\n",
    "\n",
    "# Realizar el join utilizando el campo RUT_PERSONA y el parámetro how='outer'\n",
    "nocruze2 = rutactivos.merge(nocruce, on='RUT_PERSONA', how='outer', indicator=True)\n",
    "\n",
    "# Filtrar los registros que no coinciden en ambas tablas\n",
    "nocruze2 = nocruze2[nocruze2['_merge'] != 'both']\n",
    "\n",
    "# Eliminar la columna de indicador de merge\n",
    "nocruze2 = nocruze2.drop(columns=['_merge'])\n",
    "\n",
    "# Imprimir el resultado del join\n",
    "print(nocruze2)\n",
    "\n",
    "# Guardar el archivo final en Excel\n",
    "nocruze2.to_excel(r\"C:\\Users\\wduran\\Downloads\\nocruze2.xlsx\", index=False)\n"
   ]
  },
  {
   "cell_type": "code",
   "execution_count": null,
   "id": "fa27adce-52a2-4b99-97ee-b924777aa66c",
   "metadata": {},
   "outputs": [],
   "source": [
    "import pandas as pd\n",
    "\n",
    "# Rutas de los archivos\n",
    "decodata_path = r\"C:\\Users\\wduran\\CLAROCHILE\\Nicoll Constanza Aguirre Diaz - dcabello\\Wilder\\Query_Wil_2.txt\"\n",
    "stock_path = r\"C:\\Users\\wduran\\CLAROCHILE\\Nicoll Constanza Aguirre Diaz - dcabello\\Claro\\Stocks mensuales\\Stock HFC enero 2024.csv\"\n",
    "stock_decos = r\"C:\\Users\\wduran\\CLAROCHILE\\Nicoll Constanza Aguirre Diaz - dcabello\\output.xlsx\"\n",
    "\n",
    "# Leer los archivos en DataFrames\n",
    "decodata_df = pd.read_csv(decodata_path, sep=';', encoding='latin-1')\n",
    "print(decodata_df.head())\n",
    "\n",
    "\n"
   ]
  },
  {
   "cell_type": "code",
   "execution_count": null,
   "id": "068aa174-d13c-47a5-887b-e561c6096d1a",
   "metadata": {},
   "outputs": [],
   "source": [
    "import pandas as pd\n",
    "\n",
    "# Leer la base de datos\n",
    "stock = pd.read_csv(r'C:\\Users\\wduran\\CLAROCHILE\\Nicoll Constanza Aguirre Diaz - dcabello\\Dashboards Nueva Oferta\\20240229 stock_assets_fijos.csv', sep=';')\n",
    "\n",
    "# Eliminar filas con valores no válidos en la columna ID_VIVIENDA y NOMBRE_CUENTA_FACTURACION\n",
    "stock = stock.dropna(subset=['ID_VIVIENDA', 'NOMBRE_CUENTA_FACTURACION'])\n",
    "\n",
    "# Convertir ID_VIVIENDA a tipo entero\n",
    "stock['ID_VIVIENDA'] = stock['ID_VIVIENDA'].astype(int)\n",
    "\n",
    "# Ver los primeros 5 registros\n",
    "primeros_registros = stock.head()\n",
    "\n",
    "print(primeros_registros)\n",
    "\n"
   ]
  },
  {
   "cell_type": "code",
   "execution_count": null,
   "id": "99adcfd1-adad-48ba-865d-d275dc47e7b0",
   "metadata": {},
   "outputs": [],
   "source": [
    "import pandas as pd\n",
    "\n",
    "# Leer la base de datos\n",
    "file_path = \"C:/Users/wduran/Downloads/base_faltante_para_cruzar.xlsx\"\n",
    "df = pd.read_excel(file_path)\n",
    "\n",
    "# Función para insertar el guion en el penúltimo dígito\n",
    "def insert_hyphen(number):\n",
    "    number_str = str(number)\n",
    "    return number_str[:-1] + \"-\" + number_str[-1]\n",
    "\n",
    "# Aplicar la función a la columna con los números\n",
    "df[\"Numero Actualizado\"] = df[\"Numero\"].apply(insert_hyphen)\n",
    "\n",
    "# Guardar la base de datos actualizada en la misma ubicación\n",
    "updated_file_path = \"C:/Users/wduran/Downloads/base_faltante_para_cruzar_actualizado.xlsx\"\n",
    "df.to_excel(updated_file_path, index=False)\n",
    "\n",
    "print(\"Base de datos actualizada guardada en:\", updated_file_path)\n"
   ]
  },
  {
   "cell_type": "code",
   "execution_count": null,
   "id": "21184f0a-91cd-4693-93c6-9186f575a061",
   "metadata": {},
   "outputs": [],
   "source": []
  }
 ],
 "metadata": {
  "kernelspec": {
   "display_name": "Python 3 (ipykernel)",
   "language": "python",
   "name": "python3"
  },
  "language_info": {
   "codemirror_mode": {
    "name": "ipython",
    "version": 3
   },
   "file_extension": ".py",
   "mimetype": "text/x-python",
   "name": "python",
   "nbconvert_exporter": "python",
   "pygments_lexer": "ipython3",
   "version": "3.11.5"
  }
 },
 "nbformat": 4,
 "nbformat_minor": 5
}
