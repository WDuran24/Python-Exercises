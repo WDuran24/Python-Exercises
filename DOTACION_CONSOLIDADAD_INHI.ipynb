{
 "cells": [
  {
   "cell_type": "code",
   "execution_count": 6,
   "id": "41e10c17-ebc3-469f-9db0-9d38c4579a1e",
   "metadata": {},
   "outputs": [],
   "source": [
    "import pandas as pd\n",
    "\n",
    "# Cargar el dataframe desde el archivo CSV\n",
    "ini_completas_df = pd.read_csv(r'C:\\Users\\wduran\\Downloads\\ini_COMPLETAS.csv', sep=';')\n",
    "\n",
    "# Cargar el dataframe desde el archivo Excel\n",
    "dotacion_df = pd.read_excel(r'C:\\Users\\wduran\\Downloads\\Dotacion Consolidada completa.xlsx')\n",
    "\n",
    "# Limpiar los nombres de las columnas\n",
    "ini_completas_df.columns = ini_completas_df.columns.str.strip()\n",
    "dotacion_df.columns = dotacion_df.columns.str.strip()\n",
    "\n",
    "# Crear una nueva columna en ambos dataframes para la concatenación de mes y año\n",
    "ini_completas_df['MES_ANO'] = ini_completas_df['MES'].astype(str) + '-' + ini_completas_df['ANO'].astype(str)\n",
    "dotacion_df['MES_ANO'] = dotacion_df['MES'].astype(str) + '-' + dotacion_df['ANO'].astype(str)\n",
    "\n",
    "# Realizar el join en base a USUARIO y MES_ANO\n",
    "merged_df = ini_completas_df.merge(\n",
    "    dotacion_df[['USUARIO', 'MES_ANO', 'Categoria']],\n",
    "    how='left',\n",
    "    on=['USUARIO', 'MES_ANO']\n",
    ")\n",
    "# Función para excluir la categoría 'Cobranza'\n",
    "def excluir_cobranza(row):\n",
    "    return row['Categoria'] != 'Cobranza'\n",
    "# Aplicar la función para excluir la categoría 'Cobranza'\n",
    "merged_df = merged_df[merged_df.apply(excluir_cobranza, axis=1)]\n",
    "# Guardar el resultado en un nuevo archivo CSV\n",
    "merged_df.to_csv(r'C:\\Users\\wduran\\Downloads\\Inhibiciones Completas.csv', index=False,sep=';')\n"
   ]
  },
  {
   "cell_type": "code",
   "execution_count": null,
   "id": "57611453-e23e-4a70-ad06-32d27e7dab4e",
   "metadata": {},
   "outputs": [],
   "source": []
  }
 ],
 "metadata": {
  "kernelspec": {
   "display_name": "Python 3 (ipykernel)",
   "language": "python",
   "name": "python3"
  },
  "language_info": {
   "codemirror_mode": {
    "name": "ipython",
    "version": 3
   },
   "file_extension": ".py",
   "mimetype": "text/x-python",
   "name": "python",
   "nbconvert_exporter": "python",
   "pygments_lexer": "ipython3",
   "version": "3.11.5"
  }
 },
 "nbformat": 4,
 "nbformat_minor": 5
}
