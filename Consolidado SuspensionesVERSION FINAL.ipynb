{
 "cells": [
  {
   "cell_type": "code",
   "execution_count": null,
   "id": "a43ed249-cbf5-4a52-85ce-b29ce469a771",
   "metadata": {},
   "outputs": [
    {
     "name": "stderr",
     "output_type": "stream",
     "text": [
      "C:\\Users\\wduran\\AppData\\Local\\Temp\\ipykernel_11732\\684169532.py:9: DtypeWarning: Columns (1) have mixed types. Specify dtype option on import or set low_memory=False.\n",
      "  dotacion= pd.read_csv((r\"C:\\Users\\wduran\\CLAROCHILE\\Nicoll Constanza Aguirre Diaz - dcabello\\ARPU Flujo\\Suspension Transitoria\\Consolidado Suspensiones Inputs\\Dotacion Consolidada.csv\"),sep=\";\",encoding='latin-1')\n"
     ]
    }
   ],
   "source": [
    "import pandas as pd\n",
    "import datetime as dt\n",
    "\n",
    "# Cargar los archivos csv en dataframes\n",
    "suspension = pd.read_csv((r\"C:\\Users\\wduran\\CLAROCHILE\\Nicoll Constanza Aguirre Diaz - dcabello\\ARPU Flujo\\Suspension Transitoria\\Consolidado Suspensiones Inputs\\Suspension Consolidado.csv\"),sep=\";\",encoding='latin-1')\n",
    "reanudacion = pd.read_csv((r\"C:\\Users\\wduran\\CLAROCHILE\\Nicoll Constanza Aguirre Diaz - dcabello\\ARPU Flujo\\Suspension Transitoria\\Consolidado Suspensiones Inputs\\Reanudacion Consolidado.csv\"),sep=\";\",encoding='latin-1')\n",
    "dx_voluntarias = pd.read_csv((r\"C:\\Users\\wduran\\CLAROCHILE\\Nicoll Constanza Aguirre Diaz - dcabello\\ARPU Flujo\\Suspension Transitoria\\Consolidado Suspensiones Inputs\\DX Voluntarias Consolidado.csv\"),sep=\";\",encoding='latin-1')\n",
    "dx_mora = pd.read_csv((r\"C:\\Users\\wduran\\CLAROCHILE\\Nicoll Constanza Aguirre Diaz - dcabello\\ARPU Flujo\\Suspension Transitoria\\Consolidado Suspensiones Inputs\\DX por Mora Consolidado.csv\"),sep=\";\",encoding='latin-1')\n",
    "dotacion= pd.read_csv((r\"C:\\Users\\wduran\\CLAROCHILE\\Nicoll Constanza Aguirre Diaz - dcabello\\ARPU Flujo\\Suspension Transitoria\\Consolidado Suspensiones Inputs\\Dotacion Consolidada.csv\"),sep=\";\",encoding='latin-1')\n",
    "\n",
    "\n",
    "# Renombrar columna ID_ANDES de archivo de dotacion\n",
    "dotacion=dotacion.rename(columns={'ID_ANDES': 'INGRESADOR'})\n",
    "\n",
    "# Hacer el join con dotacion para agregar campos 'CATEGORIA Y PLATAFORMA'\n",
    "suspension = pd.merge(suspension, dotacion[['INGRESADOR', 'Categoria', 'Plataforma']], on='INGRESADOR', how='left')\n",
    "\n",
    "# Agregar el campo \"AÑO\" extraído de \"FECHA_CREACION\"\n",
    "suspension['AÑO'] = pd.to_datetime(suspension['FECHA_CREACION']).dt.year\n",
    "\n",
    "# Agregar el campo \"MES\" extraído de \"FECHA_CREACION\"\n",
    "suspension['MES'] = pd.to_datetime(suspension['FECHA_CREACION']).dt.month\n",
    "\n",
    "# Filtrar por todos los Estados de Pedidos Completados\n",
    "suspension_completada = suspension[suspension['ESTADO_PEDIDO'] == 'Completada']\n",
    "\n",
    "# Hacer el join entre suspension y reanudacion, excluyendo los registros que coinciden\n",
    "suspension_sin_reanudacion = pd.merge(suspension_completada, reanudacion, on=['ID_ACTIVO', 'ID_CTA_FACT'], how='left', indicator=True)\n",
    "suspension_sin_reanudacion = suspension_sin_reanudacion[suspension_sin_reanudacion['_merge'] == 'left_only']\n",
    "suspension_sin_reanudacion.drop('_merge', axis=1, inplace=True)\n",
    "\n",
    "# Filtrar por todos los Estados de DX Voluntarias sea igual a 'Desconexion'\n",
    "dx_voluntarias_desconexion = dx_voluntarias[dx_voluntarias['NOMBRE_PEDIDO'] == 'Desconexion']\n",
    "\n",
    "# Hacer el join entre suspension_sin_reanudacion y dx_voluntarias, excluyendo los registros que coinciden\n",
    "suspension_sin_dx_voluntarias = pd.merge(suspension_sin_reanudacion, dx_voluntarias_desconexion, on='ID_CLIENTE', how='left', indicator=True)\n",
    "suspension_sin_dx_voluntarias = suspension_sin_dx_voluntarias[suspension_sin_dx_voluntarias['_merge'] == 'left_only']\n",
    "suspension_sin_dx_voluntarias.drop('_merge', axis=1, inplace=True)\n",
    "\n",
    "# Hacer el join entre suspension_sin_dx_voluntaria y dx_mora, excluyendo los registros que coinciden\n",
    "\n",
    "resultado_final = pd.merge(suspension_sin_dx_voluntarias, dx_mora, on='ID_CLIENTE', how='left', indicator=True)\n",
    "resultado_final = resultado_final[resultado_final['_merge'] == 'left_only']\n",
    "resultado_final.drop('_merge', axis=1, inplace=True)\n",
    "resultado_final.drop_duplicates(inplace=True)\n",
    "# Guardar el resultado final en un archivo csv\n",
    "resultado_final.to_excel('/Users/wduran/CLAROCHILE/Nicoll Constanza Aguirre Diaz - dcabello/ARPU Flujo/Suspension Transitoria/Consolidado Suspensiones Outputs/Suspensiones Consolidadas Output.xlsx', index=False)\n",
    "\n"
   ]
  },
  {
   "cell_type": "code",
   "execution_count": null,
   "id": "e73edb3d-a431-4faf-a79e-a7dbda8ee83f",
   "metadata": {},
   "outputs": [],
   "source": []
  }
 ],
 "metadata": {
  "kernelspec": {
   "display_name": "Python 3 (ipykernel)",
   "language": "python",
   "name": "python3"
  },
  "language_info": {
   "codemirror_mode": {
    "name": "ipython",
    "version": 3
   },
   "file_extension": ".py",
   "mimetype": "text/x-python",
   "name": "python",
   "nbconvert_exporter": "python",
   "pygments_lexer": "ipython3",
   "version": "3.11.5"
  }
 },
 "nbformat": 4,
 "nbformat_minor": 5
}
