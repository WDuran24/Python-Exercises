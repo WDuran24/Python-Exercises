{
 "cells": [
  {
   "cell_type": "code",
   "execution_count": null,
   "id": "9377a442-e1dd-4d40-ba4e-870321d268ab",
   "metadata": {},
   "outputs": [],
   "source": [
    "import pandas as pd\n",
    "import numpy as np"
   ]
  },
  {
   "cell_type": "code",
   "execution_count": null,
   "id": "a004fbff-6e2c-49a3-9d0c-3c317273770f",
   "metadata": {},
   "outputs": [],
   "source": [
    "# Definir la ruta del archivo correctamente\n",
    "archivo = r\"C:\\Users\\wduran\\CLAROCHILE\\Revenue Management, CBM y Calidad de Venta - Documentos\\CBM\\MOVIL\\Stocks\\CLARO\\TABLA E\\TABLA_E_CLARO_MOVIL202408.csv\"\n",
    "\n",
    "Tabla_E_Movil_Claro= pd.read_csv(archivo, delimiter=',')  # Asumiendo que el archivo está delimitado por tabulaciones"
   ]
  },
  {
   "cell_type": "code",
   "execution_count": null,
   "id": "3c07ff3c-4e91-4d1a-a1d2-d42efd4b2762",
   "metadata": {},
   "outputs": [],
   "source": [
    "Tabla_E_Movil_Claro.sample(2)"
   ]
  },
  {
   "cell_type": "code",
   "execution_count": null,
   "id": "d20547e9-f82f-4e8d-b970-38a021e08841",
   "metadata": {},
   "outputs": [],
   "source": [
    "# Define the file path\n",
    "archivo = r\"C:\\Users\\wduran\\CLAROCHILE\\Revenue Management, CBM y Calidad de Venta - Documentos\\CBM\\MOVIL\\Stocks\\Blindaje Bolsas\\BLINDAJE TOTAL CON GRUPO DE CONTROL COMUNICACION.xlsx\"\n",
    "\n",
    "# Read the Excel file correctly\n",
    "BLINDAJE_1 = pd.read_excel(archivo)  # Assumes data is on the first sheet and headers are in the first row\n"
   ]
  },
  {
   "cell_type": "code",
   "execution_count": null,
   "id": "1bd52626-0759-4855-a2aa-831a274c27e5",
   "metadata": {},
   "outputs": [],
   "source": [
    "Blindaje_1 = BLINDAJE_1.drop_duplicates(subset='PCS')"
   ]
  },
  {
   "cell_type": "code",
   "execution_count": null,
   "id": "2646fb78-845a-458f-a39d-8610fc0c0a4e",
   "metadata": {},
   "outputs": [],
   "source": [
    "Tabla_E_Movil_Claro = pd.merge(Tabla_E_Movil_Claro, BLINDAJE_1[['PCS', 'Grupo']], on='PCS', how='left')\n"
   ]
  },
  {
   "cell_type": "code",
   "execution_count": null,
   "id": "335cd15e-145b-433b-a5ef-013484afc31e",
   "metadata": {},
   "outputs": [],
   "source": [
    "Tabla_E_Movil_Claro.rename(columns={'Grupo': 'FLAG_BLINDAJE_1'},inplace=True)"
   ]
  },
  {
   "cell_type": "code",
   "execution_count": null,
   "id": "4edd363a-1cdb-41c1-b5b1-828b501f1c61",
   "metadata": {},
   "outputs": [],
   "source": [
    "Tabla_E_Movil_Claro['FLAG_BLINDAJE_1'].value_counts()"
   ]
  },
  {
   "cell_type": "code",
   "execution_count": null,
   "id": "52c42d55-478d-49ba-9397-72da2bbc5c91",
   "metadata": {},
   "outputs": [],
   "source": [
    "Tabla_E_Movil_Claro"
   ]
  },
  {
   "cell_type": "code",
   "execution_count": null,
   "id": "6cfd30b2-dbfc-42d7-9bf6-8b157be98c64",
   "metadata": {},
   "outputs": [],
   "source": [
    "# Define the file path\n",
    "archivo = r\"C:\\Users\\wduran\\CLAROCHILE\\Revenue Management, CBM y Calidad de Venta - Documentos\\CBM\\MOVIL\\Stocks\\Blindaje Bolsas\\20240731 Blindaje Ok.xlsx\"\n",
    "\n",
    "# Read the specific sheet named 'CONSOLIDADO' from the Excel file\n",
    "BLINDAJE_2 = pd.read_excel(archivo, sheet_name='CONSOLIDADO')  # Specify the sheet name"
   ]
  },
  {
   "cell_type": "code",
   "execution_count": null,
   "id": "1bc6cc0a-05da-498d-96b2-129c95d0bac7",
   "metadata": {},
   "outputs": [],
   "source": [
    "Blindaje_2 = BLINDAJE_2.drop_duplicates(subset='PCS')"
   ]
  },
  {
   "cell_type": "code",
   "execution_count": null,
   "id": "e215955c-f712-4d4c-b730-705683da5d98",
   "metadata": {},
   "outputs": [],
   "source": [
    "Tabla_E_Movil_Claro = pd.merge(Tabla_E_Movil_Claro, BLINDAJE_2[['PCS', 'Meses']], on='PCS', how='left')"
   ]
  },
  {
   "cell_type": "code",
   "execution_count": null,
   "id": "c70535fe-5c96-45df-a375-0fd7a0bf35b9",
   "metadata": {},
   "outputs": [],
   "source": [
    "Tabla_E_Movil_Claro = Tabla_E_Movil_Claro.rename(columns={'Meses': 'FLAG_BLINDAJE_2'})"
   ]
  },
  {
   "cell_type": "code",
   "execution_count": null,
   "id": "5e3666da-2818-40ce-b09d-4b154f40623c",
   "metadata": {},
   "outputs": [],
   "source": [
    "# Definir la función que asigna los valores a 'GIGA_PLAN'\n",
    "def asignar_giga_plan(nombre_plan):\n",
    "    if nombre_plan == 'XS':\n",
    "        return '50 GB'\n",
    "    elif nombre_plan == 'S':\n",
    "        return '100 GB'\n",
    "    elif nombre_plan == 'M':\n",
    "        return '200 GB'\n",
    "    elif nombre_plan == 'L':\n",
    "        return '300 GB'\n",
    "    elif nombre_plan == 'XL':\n",
    "        return '400 GB'\n",
    "    elif nombre_plan == 'MAX LIBRE PRO':\n",
    "        return 'ILIMITADO'\n",
    "    elif nombre_plan == 'PREMIUM':\n",
    "        return 'ILIMITADO'\n",
    "    elif nombre_plan == 'OTROS':\n",
    "        return 'OTROS'\n",
    "    elif nombre_plan == 'PREMIUM BLACK':\n",
    "        return 'ILIMITADO'\n",
    "    elif nombre_plan == 'BLACK':\n",
    "        return 'ILIMITADO'\n",
    "    else:\n",
    "        return 'OTROS'  # Asignar 'OTROS' para cualquier valor no especificado\n",
    "\n",
    "# Aplicar la función a la columna 'NOMBRE_PLAN' y crear la columna 'GIGA_PLAN'\n",
    "Tabla_E_Movil_Claro['GIGA_PLAN'] = Tabla_E_Movil_Claro['NOMBRE_PLAN'].apply(asignar_giga_plan)"
   ]
  },
  {
   "cell_type": "code",
   "execution_count": null,
   "id": "38e88dec-55f7-498b-8e01-8cb43e0a0e24",
   "metadata": {},
   "outputs": [],
   "source": [
    "Tabla_E_Movil_Claro['GIGAS_LIBRE'] = np.where(\n",
    "    Tabla_E_Movil_Claro['GIGA_PLAN'].str.lower() == 'ilimitado', 1, 0)"
   ]
  },
  {
   "cell_type": "code",
   "execution_count": null,
   "id": "3a6ff17b-00d3-4ce8-afc2-759d5cb8cd48",
   "metadata": {},
   "outputs": [],
   "source": [
    "Tabla_E_Movil_Claro"
   ]
  },
  {
   "cell_type": "code",
   "execution_count": null,
   "id": "6c452f40-a992-40ce-9c3d-e0581db0bb93",
   "metadata": {},
   "outputs": [],
   "source": [
    "Tabla_E_Movil_Claro = Tabla_E_Movil_Claro.drop(columns=['GIGA_PLAN'])\n"
   ]
  },
  {
   "cell_type": "code",
   "execution_count": null,
   "id": "cbb0f189-8e21-402d-8b0c-caa15173ab70",
   "metadata": {},
   "outputs": [],
   "source": [
    "# Guarda el DataFrame sin incluir los índices.\n",
    "new_file_path = r\"C:\\Users\\wduran\\CLAROCHILE\\Revenue Management, CBM y Calidad de Venta - Documentos\\CBM\\MOVIL\\Stocks\\Blindaje Bolsas\\blindaje3.csv\"\n",
    "\n",
    "# Utiliza el método to_csv desde el DataFrame.\n",
    "Tabla_E_Movil_Claro.to_csv(new_file_path, index=False)"
   ]
  },
  {
   "cell_type": "code",
   "execution_count": null,
   "id": "0f03cbf6-6dd3-43d2-b0e5-89bac4a9d930",
   "metadata": {},
   "outputs": [],
   "source": [
    "Tabla_E_Movil_Claro"
   ]
  },
  {
   "cell_type": "code",
   "execution_count": null,
   "id": "1b6302f9-d191-40d9-b199-c2b4f3554bf9",
   "metadata": {},
   "outputs": [],
   "source": [
    "import pandas as pd\n",
    "import matplotlib.pyplot as plt\n",
    "import seaborn as sns"
   ]
  },
  {
   "cell_type": "code",
   "execution_count": null,
   "id": "8e003b9d-a9d8-4e82-a5d7-460c3839b49a",
   "metadata": {},
   "outputs": [],
   "source": [
    "falla = pd.read_csv(r\"C:\\Users\\wduran\\Downloads\\vtr_churnvol_consolidated_2024-08-31.csv\", sep=\";\", encoding='latin-1')"
   ]
  },
  {
   "cell_type": "code",
   "execution_count": null,
   "id": "ae24f6b9-9098-404c-9c59-afa4ed42a12b",
   "metadata": {},
   "outputs": [],
   "source": [
    "falla"
   ]
  },
  {
   "cell_type": "code",
   "execution_count": null,
   "id": "ea5b2106-c459-4a3e-be12-ed2a82345d97",
   "metadata": {},
   "outputs": [],
   "source": [
    "\n",
    "\n",
    "# Suponiendo que 'falla' es tu DataFrame\n",
    "# Si 'falla' es un archivo CSV, por ejemplo, puedes leerlo así:\n",
    "# falla = pd.read_csv('ruta_a_tu_archivo.csv')\n",
    "\n",
    "# Crear histogramas\n",
    "plt.figure(figsize=(14, 6))\n",
    "\n",
    "# Histograma para 'access_network_issues_pct'\n",
    "plt.subplot(1, 2, 1)\n",
    "sns.histplot(falla['access_network_issues_pct'], kde=True, bins=30, color='blue')\n",
    "plt.title('Histograma de access_network_issues_pct')\n",
    "plt.xlabel('Porcentaje de Problemas de Red')\n",
    "plt.ylabel('Frecuencia')\n",
    "\n",
    "# Histograma para 'access_network_issues_pct_cuadrante'\n",
    "plt.subplot(1, 2, 2)\n",
    "sns.histplot(falla['access_network_issues_pct_cuadrante'], kde=True, bins=30, color='green')\n",
    "plt.title('Histograma de access_network_issues_pct_cuadrante')\n",
    "plt.xlabel('Porcentaje de Problemas de Red por Cuadrante')\n",
    "plt.ylabel('Frecuencia')\n",
    "\n",
    "# Mostrar los gráficos\n",
    "plt.tight_layout()\n",
    "plt.show()\n"
   ]
  },
  {
   "cell_type": "markdown",
   "id": "d2bd3672-b9cf-4e46-99e0-a09de98aebb8",
   "metadata": {},
   "source": [
    "# CRUCE DE LA PATY"
   ]
  },
  {
   "cell_type": "code",
   "execution_count": null,
   "id": "99209595-104e-415c-8d3a-3a376da28c18",
   "metadata": {},
   "outputs": [],
   "source": [
    "import pandas as pd\n",
    "\n",
    "stock = pd.read_csv(r\"C:\\Users\\wduran\\CLAROCHILE\\Revenue Management, CBM y Calidad de Venta - Documentos\\CBM\\FIJO\\STOCKS\\VTR\\TABLAE\\202409_StockTotal.csv\", sep=\",\", encoding='latin-1')"
   ]
  },
  {
   "cell_type": "code",
   "execution_count": null,
   "id": "c123398a-ddae-490f-b263-b3bbd79e7579",
   "metadata": {},
   "outputs": [],
   "source": [
    "stock"
   ]
  },
  {
   "cell_type": "code",
   "execution_count": null,
   "id": "56b8bb60-496a-4acf-8a1f-dcc079720251",
   "metadata": {},
   "outputs": [],
   "source": [
    "churn = pd.read_csv(r\"C:\\Users\\wduran\\Downloads\\vtr_churnvol_consolidated_2024-08-31.csv\", sep=\";\", encoding='latin-1')"
   ]
  },
  {
   "cell_type": "code",
   "execution_count": null,
   "id": "d62206ad-ea60-441e-b096-0870d70e93d7",
   "metadata": {},
   "outputs": [],
   "source": [
    "churn = churn[churn['percentile_rank_score'] > 90]\n",
    "\n",
    "# Concatenar los campos 'rut' y 'iden_vivienda' y crear el nuevo campo 'RUT_VIVIENDA'\n",
    "churn['RUT_VIVIENDA'] = churn['rut'].astype(str) + churn['iden_vivienda'].astype(str)\n",
    "\n",
    "# Eliminar ceros a la izquierda en el campo 'RUT_VIVIENDA'\n",
    "churn['RUT_VIVIENDA'] = churn['RUT_VIVIENDA'].apply(lambda x: x.lstrip('0'))\n",
    "\n",
    "\n",
    "churn"
   ]
  },
  {
   "cell_type": "code",
   "execution_count": null,
   "id": "b5fc233f-ccdd-43ed-a961-3c56cb0839ee",
   "metadata": {},
   "outputs": [],
   "source": [
    "resultado = pd.merge(stock, churn[['RUT_VIVIENDA', 'percentile_rank_score']], on='RUT_VIVIENDA', how='inner')\n",
    "resultado = resultado.drop_duplicates()\n",
    "\n"
   ]
  },
  {
   "cell_type": "code",
   "execution_count": null,
   "id": "e7ed754e-3fea-4284-b7d4-c43c0c89bd88",
   "metadata": {},
   "outputs": [],
   "source": [
    "resultado"
   ]
  },
  {
   "cell_type": "code",
   "execution_count": null,
   "id": "8badb316-115f-42fe-a745-07fe27786379",
   "metadata": {},
   "outputs": [],
   "source": [
    "entel = pd.read_csv(r\"C:\\Users\\wduran\\Downloads\\Clientes stock VTR con móvil Entel.csv\", sep=\";\", encoding='latin-1')"
   ]
  },
  {
   "cell_type": "code",
   "execution_count": null,
   "id": "765450e6-9d61-4bba-9159-b2b1f6ad70fe",
   "metadata": {},
   "outputs": [],
   "source": [
    "entel"
   ]
  },
  {
   "cell_type": "code",
   "execution_count": null,
   "id": "9361b9e5-2531-4ea0-b076-35dbac9ab8b7",
   "metadata": {},
   "outputs": [],
   "source": [
    "# Realiza el join usando el campo ID_CLIENTE de 'resultado' y ACT_ACCT_ID_VAL de 'entel'\n",
    "resultado = resultado.merge(entel[['ACT_ACCT_ID_VAL']], \n",
    "                            how='left', \n",
    "                            left_on='ID_CLIENTE', \n",
    "                            right_on='ACT_ACCT_ID_VAL', \n",
    "                            indicator=True)\n",
    "\n",
    "# Crea el campo ENTEL: asigna 1 si hay coincidencia ('both') y 0 si no ('left_only')\n",
    "resultado['ENTEL'] = (resultado['_merge'] == 'both').astype(int)\n",
    "\n",
    "# Elimina la columna '_merge' que fue usada para el check\n",
    "resultado = resultado.drop(columns=['_merge'])\n",
    "\n",
    "# Elimina duplicados del DataFrame\n",
    "resultado = resultado.drop_duplicates()\n"
   ]
  },
  {
   "cell_type": "code",
   "execution_count": null,
   "id": "5ae31cec-db83-43fc-b6ff-5a0f74773f3e",
   "metadata": {},
   "outputs": [],
   "source": [
    "resultado_filtrado = resultado[resultado['ENTEL'] == 1]\n"
   ]
  },
  {
   "cell_type": "code",
   "execution_count": null,
   "id": "3a7560b2-5e09-44be-823c-6b558ca6ab50",
   "metadata": {},
   "outputs": [],
   "source": [
    "resultado_filtrado"
   ]
  },
  {
   "cell_type": "code",
   "execution_count": null,
   "id": "0f40ec21-1c7a-47fb-8447-02a06ee00700",
   "metadata": {},
   "outputs": [],
   "source": [
    "trans = pd.read_csv(r\"C:\\Users\\wduran\\Downloads\\Base_datos_VTR_transunion.txt\", sep=\"|\", encoding='latin-1')"
   ]
  },
  {
   "cell_type": "code",
   "execution_count": null,
   "id": "79fccf5f-67d6-4bd2-942a-d01f6abd8f5c",
   "metadata": {},
   "outputs": [],
   "source": [
    "trans['rut'] = trans['rut'].astype(str)\n",
    "trans['dv'] = trans['dv'].astype(str)\n",
    "\n",
    "# Luego, crea el campo 'ID_CLIENTE' concatenando 'rut' y 'dv' con un guión\n",
    "trans['ID_CLIENTE'] = trans['rut'].str.zfill(7) + '-' + trans['dv']"
   ]
  },
  {
   "cell_type": "code",
   "execution_count": null,
   "id": "e96a474a-078f-4162-a361-d72d4a28d114",
   "metadata": {},
   "outputs": [],
   "source": [
    "trans"
   ]
  },
  {
   "cell_type": "code",
   "execution_count": null,
   "id": "f576bc9d-37a8-47f2-af61-621fcdc74cfe",
   "metadata": {},
   "outputs": [],
   "source": [
    "resultado_final"
   ]
  },
  {
   "cell_type": "code",
   "execution_count": null,
   "id": "ea5db7dd-5a33-4356-bd6f-c8ed84572dc0",
   "metadata": {},
   "outputs": [],
   "source": [
    "resultado_final.to_excel(r\"C:\\Users\\wduran\\CLAROCHILE\\Revenue Management, CBM y Calidad de Venta - Documentos\\CBM\\FIJO\\KAO\\BASE FILTRADA PATY.xlsx\", index=False)\n"
   ]
  },
  {
   "cell_type": "code",
   "execution_count": null,
   "id": "2581beef-3e60-4d6d-aadc-c3888d9c2394",
   "metadata": {},
   "outputs": [],
   "source": [
    "import pandas as pd\n",
    "\n",
    "# Ruta al archivo Excel\n",
    "archivo_excel = r\"C:\\Users\\wduran\\Downloads\\BASE FILTRADA PATY 1.xlsx\"\n",
    "\n",
    "# Leer el archivo Excel\n",
    "df = pd.read_excel(archivo_excel)"
   ]
  },
  {
   "cell_type": "code",
   "execution_count": null,
   "id": "e5ec0ab2-a43a-4a3a-9631-cbfd68e1c658",
   "metadata": {},
   "outputs": [],
   "source": [
    "df"
   ]
  },
  {
   "cell_type": "code",
   "execution_count": null,
   "id": "3fd7b4c0-63bf-488b-b3fc-0c7ac292a790",
   "metadata": {},
   "outputs": [],
   "source": [
    "hp = pd.read_csv(r\"C:\\Users\\wduran\\CLAROCHILE\\Revenue Management, CBM y Calidad de Venta - Documentos\\CBM\\FIJO\\KAO\\20240730_Homepass_V4.csv\", sep=\",\", encoding='latin-1')"
   ]
  },
  {
   "cell_type": "code",
   "execution_count": null,
   "id": "8ba4beeb-670a-4fa4-87b5-be460c42bf37",
   "metadata": {},
   "outputs": [],
   "source": [
    "# Realizar el left join entre 'stock' y 'hp' usando 'ID_VIVIENDA_GIS' en 'stock' y 'IDEN_VIVIENDA_GIS' en 'hp'\n",
    "merged_df = pd.merge(df, hp[['IDEN_VIVIENDA_GIS']], left_on='ID_VIVIENDA_GIS', right_on='IDEN_VIVIENDA_GIS', how='left', indicator=True)\n",
    "\n",
    "# Agregar el campo 'HOMEPASS_NEUTRA_ON' con valor 1 para coincidencias y 0 para no coincidencias\n",
    "merged_df['HOMEPASS_NEUTRA_ON'] = merged_df['_merge'].apply(lambda x: 1 if x == 'both' else 0)\n",
    "\n",
    "# Eliminar las columnas '_merge', 'IDEN_VIVIENDA_GIS' y 'ID_VIVIENDA_GIS' si no son necesarias\n",
    "merged_df = merged_df.drop(columns=['_merge', 'IDEN_VIVIENDA_GIS'])\n",
    "\n",
    "# Eliminar filas duplicadas\n",
    "merged_df = merged_df.drop_duplicates()"
   ]
  },
  {
   "cell_type": "code",
   "execution_count": null,
   "id": "fc35cd7c-3345-42a4-b79f-10c8470503e4",
   "metadata": {},
   "outputs": [],
   "source": [
    "merged_df"
   ]
  },
  {
   "cell_type": "code",
   "execution_count": null,
   "id": "9ca5d393-521e-4a46-882b-c2bd0e054ba8",
   "metadata": {},
   "outputs": [],
   "source": [
    "merged_df.to_excel(r\"C:\\Users\\wduran\\CLAROCHILE\\Revenue Management, CBM y Calidad de Venta - Documentos\\CBM\\FIJO\\KAO\\BASE FILTRADA PATY_v2.xlsx\", index=False)\n"
   ]
  },
  {
   "cell_type": "markdown",
   "id": "94af662c-f3b9-45d6-8507-302d869fad44",
   "metadata": {},
   "source": [
    "# UPGRADE VELOCIDAD FIJO "
   ]
  },
  {
   "cell_type": "code",
   "execution_count": null,
   "id": "dd294d0b-2017-49d7-a9e9-a63bc41cc8ea",
   "metadata": {},
   "outputs": [],
   "source": [
    "import pandas as pd"
   ]
  },
  {
   "cell_type": "code",
   "execution_count": null,
   "id": "c7e32459-85f4-4f2c-8137-fe85819bb700",
   "metadata": {},
   "outputs": [],
   "source": [
    "stock = pd.read_csv(r\"C:\\Users\\wduran\\CLAROCHILE\\Revenue Management, CBM y Calidad de Venta - Documentos\\CBM\\FIJO\\STOCKS\\VTR\\TABLAE\\202409_StockTotal.csv\", sep=\",\", encoding='latin-1')"
   ]
  },
  {
   "cell_type": "code",
   "execution_count": null,
   "id": "94c12bd2-a330-4a6b-a360-dcbfa56ce896",
   "metadata": {},
   "outputs": [],
   "source": [
    "stock"
   ]
  },
  {
   "cell_type": "code",
   "execution_count": null,
   "id": "ce213ed1-b534-4d6d-a3be-c6e60dd7c1aa",
   "metadata": {},
   "outputs": [],
   "source": [
    "# Ruta al archivo Excel\n",
    "archivo_excel = r\"C:\\Users\\wduran\\Downloads\\13. Grupo_upg_velocidad_2024-09-10.xlsx\"\n",
    "\n",
    "# Leer el archivo Excel\n",
    "upg = pd.read_excel(archivo_excel)"
   ]
  },
  {
   "cell_type": "code",
   "execution_count": null,
   "id": "0964977e-b6c8-4184-b503-6d10078dcd6f",
   "metadata": {},
   "outputs": [],
   "source": [
    "upg"
   ]
  },
  {
   "cell_type": "markdown",
   "id": "e3edd9fa-9237-4cf1-98ab-2c174482c442",
   "metadata": {},
   "source": [
    "# CLIENTES BAJA VELOCIDAD"
   ]
  },
  {
   "cell_type": "code",
   "execution_count": null,
   "id": "b084106c-851b-4b76-bbda-62767414e8e3",
   "metadata": {},
   "outputs": [],
   "source": [
    "import pandas as pd\n",
    "\n",
    "# Ruta al archivo Excel\n",
    "archivo_excel = r\"C:\\Users\\wduran\\Downloads\\Ley minima de velocidad 1.xlsx\"\n",
    "\n",
    "# Leer el archivo Excel\n",
    "base = pd.read_excel(archivo_excel)\n",
    "pd.set_option('display.max_columns', None)\n"
   ]
  },
  {
   "cell_type": "code",
   "execution_count": null,
   "id": "d1351d22-6996-4b62-928f-73a55556f31a",
   "metadata": {},
   "outputs": [],
   "source": [
    "mac_vel = pd.read_csv(r\"C:\\Users\\wduran\\Downloads\\MAC_VEL.csv\", sep=\",\", encoding='latin-1')\n",
    "# Quitar los ceros a la izquierda del campo 'RUT_ENTIDAD'\n",
    "pd.set_option('display.max_columns', None)\n"
   ]
  },
  {
   "cell_type": "code",
   "execution_count": null,
   "id": "fee641f4-5cc4-40d6-8487-5cf168395609",
   "metadata": {},
   "outputs": [],
   "source": [
    "# Ruta del archivo\n",
    "ruta_archivo = r\"C:\\Users\\wduran\\Downloads\\CL_ST20240831.txt\"\n",
    "\n",
    "# Leer el archivo de texto separado por tabuladores\n",
    "MAC = pd.read_csv(ruta_archivo, sep='~', encoding='latin-1')\n",
    "\n",
    "MAC['RUT_ENTIDAD'] = MAC['RUT_ENTIDAD'].astype(str).str.lstrip('0')\n",
    "# Crear el nuevo campo 'RUT_VIVIENDA' concatenando 'RUT_ENTIDAD' y 'IDEN_VIVIENDA'\n",
    "MAC['RUT_VIVIENDA'] = MAC['RUT_ENTIDAD'] + MAC['IDEN_VIVIENDA'].astype(str)\n",
    "\n",
    "pd.set_option('display.max_columns', None)\n",
    "\n"
   ]
  },
  {
   "cell_type": "code",
   "execution_count": null,
   "id": "cc7e1acd-f2be-451b-880b-09c64c95397e",
   "metadata": {},
   "outputs": [],
   "source": [
    "base.sample(2)"
   ]
  },
  {
   "cell_type": "code",
   "execution_count": null,
   "id": "7397bdf7-5ec6-4597-bfa4-4798094fbfe4",
   "metadata": {},
   "outputs": [],
   "source": [
    "MAC.sample(2)"
   ]
  },
  {
   "cell_type": "code",
   "execution_count": null,
   "id": "c334f84c-4c8e-42e9-9313-cc4afe3138cf",
   "metadata": {},
   "outputs": [],
   "source": [
    "mac_vel.sample(2)"
   ]
  },
  {
   "cell_type": "code",
   "execution_count": null,
   "id": "9bce8319-7c91-40f0-8a13-1e00e8faccaa",
   "metadata": {},
   "outputs": [],
   "source": [
    "base = pd.merge(base, MAC[['RUT_VIVIENDA', 'MAC']], on='RUT_VIVIENDA', how='left')"
   ]
  },
  {
   "cell_type": "code",
   "execution_count": null,
   "id": "b040de3f-f885-47fd-9466-da0efbdaf3af",
   "metadata": {},
   "outputs": [],
   "source": [
    "base"
   ]
  },
  {
   "cell_type": "code",
   "execution_count": null,
   "id": "3e50654d-ce8f-4cb1-9823-56059165ca15",
   "metadata": {},
   "outputs": [],
   "source": [
    "base = pd.merge(base, mac_vel[['MAC', 'MAX_DOWN', 'MAX_UP']], on='MAC', how='left')\n"
   ]
  },
  {
   "cell_type": "code",
   "execution_count": null,
   "id": "2f0331a0-9a34-41b7-9336-1c52307055ca",
   "metadata": {},
   "outputs": [],
   "source": [
    "base"
   ]
  },
  {
   "cell_type": "code",
   "execution_count": null,
   "id": "ae060f5d-94fc-4c1d-8d60-3e579e107f8e",
   "metadata": {},
   "outputs": [],
   "source": [
    "# Exportar el DataFrame base a un archivo Excel\n",
    "base.to_excel(r\"C:\\Users\\wduran\\Downloads\\MAC BASE VEL FINAL.xlsx\", index=False)\n",
    "\n",
    "# Verifica que el archivo ha sido exportado correctamente\n",
    "print(\"Archivo exportado correctamente.\")"
   ]
  },
  {
   "cell_type": "code",
   "execution_count": null,
   "id": "c34c4850-eb7d-4aeb-a528-7f5a494fa2e6",
   "metadata": {},
   "outputs": [],
   "source": [
    "# El valor que deseas buscar\n",
    "valor_a_buscar = '342CC4B37D79'\n",
    "\n",
    "# Verificar si el valor existe en la columna 'MAC'\n",
    "existe = valor_a_buscar in mac_vel['MAC'].values\n",
    "\n",
    "if existe:\n",
    "    print(f\"El valor {valor_a_buscar} se encuentra en el campo MAC.\")\n",
    "else:\n",
    "    print(f\"El valor {valor_a_buscar} NO se encuentra en el campo MAC.\")"
   ]
  },
  {
   "cell_type": "code",
   "execution_count": null,
   "id": "6b72bddd-e6a3-4cbf-a5de-6d36ce030aac",
   "metadata": {},
   "outputs": [],
   "source": [
    "import pandas as pd\n",
    "from datetime import datetime\n",
    "\n",
    "# Cargar el archivo Excel\n",
    "file_path = r\"C:\\Users\\wduran\\Downloads\\packs TNT-CDF.xlsx\"\n",
    "df = pd.read_excel(file_path)\n",
    "\n",
    "# Convertir el campo FECHA_INACTIVACION a tipo datetime\n",
    "df['FECHA_INACTIVACION'] = pd.to_datetime(df['FECHA_INACTIVACION'], errors='coerce')\n",
    "\n",
    "# Filtrar registros donde FECHA_INACTIVACION sea menor a hoy y CATEGORIA_DETALLADA contenga 'Descuentos'\n",
    "today = datetime.today()\n",
    "df_filtered = df[~((df['FECHA_INACTIVACION'] < today) & (df['CATEGORIA_DETALLADA'].str.contains('Descuentos', case=False)))]\n",
    "\n",
    "# Aplicar 30% de descuento a los registros donde NOMBRE_PRODUCTO contenga '30'\n",
    "df_filtered.loc[df_filtered['NOMBRE_PRODUCTO'].str.contains('30', case=False), 'MONTO_DESCUENTO'] *= 0.7\n",
    "\n",
    "# Aplicar 50% de descuento a los registros donde NOMBRE_PRODUCTO contenga '50'\n",
    "df_filtered.loc[df_filtered['NOMBRE_PRODUCTO'].str.contains('50', case=False), 'MONTO_DESCUENTO'] *= 0.5\n",
    "\n",
    "# Guardar el DataFrame modificado en un nuevo archivo Excel\n",
    "output_path = r\"C:\\Users\\wduran\\Downloads\\packs_TNT-CDF_modificado.xlsx\"\n",
    "df_filtered.to_excel(output_path, index=False)\n",
    "\n",
    "print(f\"Archivo guardado en {output_path}\")\n"
   ]
  },
  {
   "cell_type": "code",
   "execution_count": null,
   "id": "ce10f0e6-8304-43e1-a92a-fd33f76ed6a1",
   "metadata": {},
   "outputs": [],
   "source": [
    "import pandas as pd\n",
    "from datetime import datetime\n",
    "\n",
    "# Función para procesar la base de datos\n",
    "def procesar_base_packs_tnt(file_path):\n",
    "    # Cargar la base de datos\n",
    "    df = pd.read_excel(file_path)\n",
    "    \n",
    "    # Obtener la fecha de hoy\n",
    "    hoy = datetime.today().date()\n",
    "    \n",
    "    # Convertir la columna FECHA_INACTIVACION a tipo fecha\n",
    "    df['FECHA_INACTIVACION'] = pd.to_datetime(df['FECHA_INACTIVACION']).dt.date\n",
    "    \n",
    "    # Filtrar registros donde FECHA_INACTIVACION sea mayor o igual a hoy y CATEGORIA_DETALLADA no contenga 'Descuentos'\n",
    "    df = df[~((df['FECHA_INACTIVACION'] < hoy) & (df['CATEGORIA_DETALLADA'].str.contains('Descuentos')))]\n",
    "    \n",
    "    # Aplicar un 30% de descuento en MONTO_DESCUENTO donde NOMBRE_PRODUCTO contenga '30'\n",
    "    # Primero obtenemos los RUT_VIVIENDA donde el NOMBRE_PRODUCTO contiene '30' y la CATEGORIA_DETALLADA contiene 'Descuentos'\n",
    "    rut_vivienda_30_descuentos = df[(df['NOMBRE_PRODUCTO'].str.contains('30')) & (df['CATEGORIA_DETALLADA'].str.contains('Descuentos'))]['RUT_VIVIENDA'].unique()\n",
    "    \n",
    "    # Luego aplicamos un 30% de descuento para esos mismos RUT_VIVIENDA donde la CATEGORIA_DETALLADA SÍ contenga 'Descuentos'\n",
    "    df.loc[(df['RUT_VIVIENDA'].isin(rut_vivienda_30_descuentos)) & (df['CATEGORIA_DETALLADA'].str.contains('Descuentos')), 'MONTO_DESCUENTO'] = df['PRECIO_ADJUNTO'] * 0.30\n",
    "    \n",
    "    # Aplicar un 50% de descuento en MONTO_DESCUENTO donde NOMBRE_PRODUCTO contenga '50'\n",
    "    # Primero obtenemos los RUT_VIVIENDA donde el NOMBRE_PRODUCTO contiene '50' y la CATEGORIA_DETALLADA contiene 'Descuentos'\n",
    "    rut_vivienda_50_descuentos = df[(df['NOMBRE_PRODUCTO'].str.contains('50')) & (df['CATEGORIA_DETALLADA'].str.contains('Descuentos'))]['RUT_VIVIENDA'].unique()\n",
    "    \n",
    "    # Luego aplicamos un 50% de descuento para esos mismos RUT_VIVIENDA donde la CATEGORIA_DETALLADA SÍ contenga 'Descuentos'\n",
    "    df.loc[(df['RUT_VIVIENDA'].isin(rut_vivienda_50_descuentos)) & (df['CATEGORIA_DETALLADA'].str.contains('Descuentos')), 'MONTO_DESCUENTO'] = df['PRECIO_ADJUNTO'] * 0.50\n",
    "    \n",
    "    # Guardar el archivo modificado en un nuevo archivo\n",
    "    output_path = file_path.replace('.xlsx', '_procesado.xlsx')\n",
    "    df.to_excel(output_path, index=False)\n",
    "    \n",
    "    print(f\"El archivo procesado ha sido guardado en {output_path}\")\n",
    "\n",
    "# Ejecutar la función\n",
    "procesar_base_packs_tnt(\"C:\\\\Users\\\\wduran\\\\Downloads\\\\packs TNT-CDF.xlsx\")\n",
    "\n"
   ]
  },
  {
   "cell_type": "code",
   "execution_count": null,
   "id": "865aba5e-416f-46e8-936b-7949416a3ad6",
   "metadata": {},
   "outputs": [],
   "source": [
    "df"
   ]
  },
  {
   "cell_type": "code",
   "execution_count": null,
   "id": "1f0010cb-1907-4c70-a14f-f2c3ddeec216",
   "metadata": {},
   "outputs": [],
   "source": [
    "df1=df.groupby('RUT_VIVIENDA').agg(suma=('PRECIO_ADJUNTO','sum')).reset_index()"
   ]
  },
  {
   "cell_type": "code",
   "execution_count": null,
   "id": "d3b9756b-5333-403c-97d3-407213674cdf",
   "metadata": {},
   "outputs": [],
   "source": [
    "df1.suma.mean()"
   ]
  },
  {
   "cell_type": "code",
   "execution_count": null,
   "id": "202de2a2-7ccb-4d04-9627-393ed7d127f8",
   "metadata": {},
   "outputs": [],
   "source": [
    "df1.RUT_VIVIENDA.count()"
   ]
  },
  {
   "cell_type": "code",
   "execution_count": null,
   "id": "530bf2fa-d908-4751-95c8-ee7978c4d9d3",
   "metadata": {},
   "outputs": [],
   "source": [
    "df1.suma.sum()"
   ]
  },
  {
   "cell_type": "code",
   "execution_count": null,
   "id": "59da41d8-853b-4d53-a411-f4bb42478b87",
   "metadata": {},
   "outputs": [],
   "source": [
    "import pandas as pd\n",
    "\n",
    "# Ruta del archivo\n",
    "ruta_archivo = r\"C:\\Users\\wduran\\CLAROCHILE\\Revenue Management, CBM y Calidad de Venta - Documentos\\CBM\\FIJO\\Geografia_Isi_2_2024-10-28.csv\"\n",
    "\n",
    "# Leer el archivo CSV (sin encabezados, header=None)\n",
    "df = pd.read_csv(ruta_archivo, sep=\";\", header=None, encoding='latin-1')\n",
    "\n",
    "# Asignar los nuevos nombres de columnas\n",
    "df.columns = ['ID_VIVIENDA', 'X_OCS_TIPO_RED','X_OCS_DESC_RED','COMUNA']\n",
    "\n",
    "# Guardar el archivo con los cambios en la misma ruta\n",
    "df.to_csv(ruta_archivo, index=False, sep=\";\", encoding='latin-1')\n",
    "\n",
    "print(\"Archivo guardado correctamente con los nuevos nombres de columnas.\")\n",
    "\n"
   ]
  },
  {
   "cell_type": "code",
   "execution_count": null,
   "id": "7f0e96a6-f0ef-4ba4-98ea-356b33d6e315",
   "metadata": {},
   "outputs": [],
   "source": [
    "df"
   ]
  },
  {
   "cell_type": "code",
   "execution_count": null,
   "id": "5d0e3dda-7d4b-442f-9ead-14928a3ecd4c",
   "metadata": {},
   "outputs": [],
   "source": [
    "claro = pd.read_csv(r\"C:\\Users\\wduran\\CLAROCHILE\\Revenue Management, CBM y Calidad de Venta - Documentos\\CBM\\FIJO\\STOCKS\\CLARO\\TABLA E\\202409_TablaE_Claro.csv\", sep=\";\", encoding='latin-1')"
   ]
  },
  {
   "cell_type": "code",
   "execution_count": null,
   "id": "075b37c9-86d3-4dae-96f5-5e152fc669bb",
   "metadata": {},
   "outputs": [],
   "source": [
    "pd.set_option(\"display.max_columns\", None)\n",
    " "
   ]
  },
  {
   "cell_type": "code",
   "execution_count": null,
   "id": "9d9af268-c8bc-4600-b95a-04a22f4f6e14",
   "metadata": {},
   "outputs": [],
   "source": [
    "claro.sample(3)"
   ]
  },
  {
   "cell_type": "code",
   "execution_count": null,
   "id": "2702e322-c0ce-4138-81a8-6ec7a4850b90",
   "metadata": {},
   "outputs": [],
   "source": [
    "# Agrupar los datos por \"NOMBRE PLAN\" (Promo) y \"NOMBRE_IBA\" (INTERNET), contando la cantidad de registros\n",
    "resumen_claro = claro.groupby(['NOMBRE PLAN', 'NOMBRE_IBA', 'VELOCIDAD INTERNET']).size().reset_index(name='Q')\n",
    "\n",
    "# Renombrar las columnas según lo requerido\n",
    "resumen_claro.columns = ['PROMO', 'INTERNET', 'MEGAS', 'Q']\n",
    "\n",
    "# Guardar el resultado en un nuevo archivo CSV\n",
    "resumen_claro.to_excel(r\"C:\\Users\\wduran\\Downloads\\2024-10-10 Formato Bulk Upgrade.xlsx\", index=False)\n",
    "\n",
    "print(\"La base de datos 'resumen claro' ha sido creada y guardada.\")"
   ]
  },
  {
   "cell_type": "code",
   "execution_count": null,
   "id": "010b2e19-c441-41a2-aed5-f99b129335c6",
   "metadata": {},
   "outputs": [],
   "source": [
    "ANDES = pd.read_csv(r\"C:\\Users\\wduran\\Downloads\\TABLA E CLARO Andes 2024-10.txt\", sep=\";\", encoding='latin-1')"
   ]
  },
  {
   "cell_type": "code",
   "execution_count": null,
   "id": "8c093aa4-63b8-4345-a643-6e62bd867c08",
   "metadata": {},
   "outputs": [],
   "source": [
    "ANDES"
   ]
  },
  {
   "cell_type": "code",
   "execution_count": null,
   "id": "af342fad-16df-4ca5-8a48-883a0f3a7ae4",
   "metadata": {},
   "outputs": [],
   "source": [
    "# Agrupar los datos por \"NOMBRE PLAN\" (Promo) y \"NOMBRE_IBA\" (INTERNET), contando la cantidad de registros\n",
    "resumen_claro = ANDES.groupby(['PROMO', 'INTERNET', ]).size().reset_index(name='Q')\n",
    "\n",
    "# Renombrar las columnas según lo requerido\n",
    "resumen_claro.columns = ['PROMO', 'INTERNET','Q']\n",
    "\n",
    "# Guardar el resultado en un nuevo archivo CSV\n",
    "resumen_claro.to_excel(r\"C:\\Users\\wduran\\Downloads\\2024-10-10 Formato Bulk Upgradeandes.xlsx\", index=False)\n",
    "\n",
    "print(\"La base de datos 'resumen claro' ha sido creada y guardada.\")"
   ]
  },
  {
   "cell_type": "markdown",
   "id": "c22f1c9f-bfdc-4919-b200-7c4680c42002",
   "metadata": {},
   "source": [
    "# Notas de Credito Fallidas"
   ]
  },
  {
   "cell_type": "code",
   "execution_count": null,
   "id": "d9718e8c-d0d3-424b-b117-9ec5da0f839e",
   "metadata": {},
   "outputs": [],
   "source": [
    "# Ruta del archivo y nombre de la hoja\n",
    "file_path = \"C:\\\\Users\\\\wduran\\\\Downloads\\\\Base Acreditación Masiva Fallidos.xlsx\"\n",
    "sheet_name = \"NC FALLIDA\"\n",
    "\n",
    "# Leer la hoja específica del archivo Excel\n",
    "df = pd.read_excel(file_path, sheet_name=sheet_name)"
   ]
  },
  {
   "cell_type": "code",
   "execution_count": null,
   "id": "0c6b5572-0d0b-4969-8c3f-c728987ab351",
   "metadata": {},
   "outputs": [],
   "source": [
    "print(df.columns)"
   ]
  },
  {
   "cell_type": "code",
   "execution_count": null,
   "id": "23d89d7c-4981-4488-b2f4-97e2b43ffb8c",
   "metadata": {},
   "outputs": [],
   "source": [
    "nc = pd.read_csv(r\"C:\\Users\\wduran\\Downloads\\Base_2024-10 (6).csv\", sep=\";\", encoding='latin-1')"
   ]
  },
  {
   "cell_type": "code",
   "execution_count": null,
   "id": "d044f8fd-a44f-458d-a832-cbb6f53204d3",
   "metadata": {},
   "outputs": [],
   "source": [
    "nc"
   ]
  },
  {
   "cell_type": "code",
   "execution_count": null,
   "id": "705d3eb2-3f44-497f-ba93-c87c35b7ca5c",
   "metadata": {},
   "outputs": [],
   "source": [
    "# Realizar el join con 'nc', utilizando los nombres de campos correctos\n",
    "df = df.merge(nc[['NMRO_CUENTA', 'VLOR_TRANSAC', 'DESC_OBSERVACION']], \n",
    "              left_on=' CUENTA_FAC', right_on='NMRO_CUENTA', how='left')\n",
    "\n",
    "# Crear la columna FLAG_FALLIDO, poniendo 1 si hay coincidencia y 0 si no lo hay\n",
    "df['FLAG_FALLIDO'] = df['VLOR_TRANSAC'].notna().astype(int)\n",
    "\n",
    "# Eliminar la columna 'NMRO_CUENTA' después del merge, si no es necesaria\n",
    "df.drop(columns=['NMRO_CUENTA'], inplace=True)\n",
    "\n",
    "# Revisar el resultado\n",
    "print(df.head())"
   ]
  },
  {
   "cell_type": "code",
   "execution_count": null,
   "id": "8ea2f942-e8fb-4717-91ba-6e379d67ba8a",
   "metadata": {},
   "outputs": [],
   "source": [
    "\n",
    "df = df.drop_duplicates()\n",
    "\n",
    "\n",
    "# Especificar la ruta donde deseas guardar el archivo\n",
    "output_path = r\"C:\\Users\\wduran\\Downloads\\Base Acreditación Masiva Fallidos VF.xlsx\"\n",
    "\n",
    "# Guardar el DataFrame en un archivo Excel\n",
    "df.to_excel(output_path, index=False)\n",
    "\n",
    "print(f\"Archivo guardado en: {output_path}\")\n"
   ]
  },
  {
   "cell_type": "code",
   "execution_count": null,
   "id": "57b8679f-e1f2-4e89-883a-0e20af3c27c4",
   "metadata": {},
   "outputs": [],
   "source": [
    "\n",
    "import pandas as pd\n",
    "\n",
    "# Read the CSV file with space as the delimiter\n",
    "data = pd.read_csv(r\"C:\\Users\\wduran\\Downloads\\informe personalizado (35).csv\", sep=\"\\t\", encoding='latin-1')\n",
    "\n",
    "# Display the first few rows to check if it's read correctly\n",
    "print(data.head())\n"
   ]
  },
  {
   "cell_type": "code",
   "execution_count": null,
   "id": "3bac3fd0-cbd4-48df-ad95-19f80e7a5ad5",
   "metadata": {},
   "outputs": [],
   "source": [
    "data"
   ]
  },
  {
   "cell_type": "code",
   "execution_count": null,
   "id": "70bb27ff-3553-4821-a6af-962bc870d20d",
   "metadata": {},
   "outputs": [],
   "source": [
    "import pandas as pd\n",
    "\n",
    "# Define la ruta del archivo\n",
    "ruta_archivo = r\"C:\\Users\\wduran\\OneDrive - CLAROCHILE\\PM Churn Fijo\\Stock Andes Claro.xlsx\"\n",
    "\n",
    "# Lee el archivo Excel (por defecto lee la primera hoja)\n",
    "df = pd.read_excel(ruta_archivo)\n"
   ]
  },
  {
   "cell_type": "code",
   "execution_count": null,
   "id": "3b157534-f8b8-4b61-82c7-428c44b019ba",
   "metadata": {},
   "outputs": [],
   "source": [
    "df"
   ]
  },
  {
   "cell_type": "code",
   "execution_count": null,
   "id": "cc341ee5-ecbb-40b5-94aa-8d7f732289c0",
   "metadata": {},
   "outputs": [],
   "source": [
    "data = pd.read_csv(r\"C:\\Users\\wduran\\CLAROCHILE\\Revenue Management, CBM y Calidad de Venta - Documentos\\CBM\\FIJO\\Geografia_Isi_2_2024-10-28.csv\", sep=\";\", encoding='latin-1')"
   ]
  },
  {
   "cell_type": "code",
   "execution_count": null,
   "id": "5d87083c-3157-4d14-a0a0-da356919058b",
   "metadata": {},
   "outputs": [],
   "source": [
    "data"
   ]
  },
  {
   "cell_type": "code",
   "execution_count": null,
   "id": "b4dbdaf6-933c-4c93-900c-80840d510558",
   "metadata": {},
   "outputs": [],
   "source": [
    "\n",
    "# Realiza el join entre df y data usando merge y añadiendo solo la columna COMUNA\n",
    "df = df.merge(data[['ID_VIVIENDA', 'COMUNA']], left_on='ID_VIVIENDA_GIS', right_on='ID_VIVIENDA', how='left')\n",
    "\n",
    "# Opcional: elimina la columna ID_VIVIENDA resultante de data si no es necesaria\n",
    "df.drop(columns=['ID_VIVIENDA'], inplace=True)\n",
    "\n",
    "# Elimina duplicados basados en todas las columnas (puedes especificar columnas si lo prefieres)\n",
    "df.drop_duplicates(inplace=True)\n",
    "\n",
    "# Guarda el DataFrame actualizado en la misma ubicación de df\n",
    "df.to_excel(r\"C:\\Users\\wduran\\OneDrive - CLAROCHILE\\PM Churn Fijo\\Stock Andes Claro.xlsx\", index=False)  # Esto sobrescribe el archivo original\n",
    "\n"
   ]
  },
  {
   "cell_type": "code",
   "execution_count": null,
   "id": "9302d3aa-22ce-453e-ad5c-c7d569cc5ed2",
   "metadata": {},
   "outputs": [],
   "source": [
    "df"
   ]
  },
  {
   "cell_type": "markdown",
   "id": "ea7154b3-b8ff-4643-939e-a77cf78ace0b",
   "metadata": {},
   "source": [
    "# NOTEBOOK RETENCION"
   ]
  },
  {
   "cell_type": "code",
   "execution_count": null,
   "id": "f8023d3c-b233-46b7-b34c-305c320d2f2c",
   "metadata": {},
   "outputs": [],
   "source": [
    "import pandas as pd\n",
    "\n",
    "# Define la ruta del archivo\n",
    "ruta_archivo = r\"C:\\Users\\wduran\\OneDrive - CLAROCHILE\\Team Churn Fijo\\Will Docs\\Pedidos Varios\\base stock clientes.xlsx\"\n",
    "\n",
    "# Lee el archivo Excel (por defecto lee la primera hoja)\n",
    "stock = pd.read_excel(ruta_archivo)\n",
    "\n",
    "\n"
   ]
  },
  {
   "cell_type": "code",
   "execution_count": null,
   "id": "365d18ed-52bd-4842-9ca1-1f482c110a3f",
   "metadata": {},
   "outputs": [],
   "source": [
    "stock"
   ]
  },
  {
   "cell_type": "code",
   "execution_count": null,
   "id": "8e137e4a-ae9d-40a3-a7ce-5237644fdd58",
   "metadata": {},
   "outputs": [],
   "source": [
    "# Define la ruta del archivo\n",
    "ruta_archivo = r\"C:\\Users\\wduran\\OneDrive - CLAROCHILE\\Team Churn Fijo\\Will Docs\\Pedidos Varios\\Traza Retencion.xlsx\"\n",
    "\n",
    "# Lee el archivo Excel (por defecto lee la primera hoja)\n",
    "traza_rete = pd.read_excel(ruta_archivo)\n"
   ]
  },
  {
   "cell_type": "code",
   "execution_count": null,
   "id": "8830e71e-8479-4813-beb7-a4e342ac2854",
   "metadata": {},
   "outputs": [],
   "source": [
    "traza_rete"
   ]
  },
  {
   "cell_type": "code",
   "execution_count": null,
   "id": "cd6e9c6b-abf7-4299-b193-9f344b3b45c9",
   "metadata": {},
   "outputs": [],
   "source": [
    "# Define la ruta del archivo\n",
    "ruta_archivo = r\"C:\\Users\\wduran\\OneDrive - CLAROCHILE\\Team Churn Fijo\\Will Docs\\Pedidos Varios\\Base Tipificaciones Septiembre VTR- 20 de octubre VRM.xlsx\"\n",
    "\n",
    "# Lee el archivo Excel (por defecto lee la primera hoja)\n",
    "tipifica = pd.read_excel(ruta_archivo)"
   ]
  },
  {
   "cell_type": "code",
   "execution_count": null,
   "id": "04c374e1-6d1b-479d-80b9-18b11de48323",
   "metadata": {},
   "outputs": [],
   "source": [
    "tipifica"
   ]
  },
  {
   "cell_type": "code",
   "execution_count": null,
   "id": "86e07695-3162-484b-a971-e355e24d80c2",
   "metadata": {},
   "outputs": [],
   "source": [
    "import pandas as pd\n",
    "\n",
    "# 2. Realizar el merge usando los campos indicados\n",
    "merged_df = pd.merge(\n",
    "    stock,\n",
    "    traza_rete[['RUT_CLIENTE', 'FECHA_LLAMADO', 'ID_ASESOR', 'USER_ASESOR', 'TIEMPO_HABLADO', 'CALLCENTER']],\n",
    "    left_on='Rut',\n",
    "    right_on='RUT_CLIENTE',\n",
    "    how='left'\n",
    ")\n",
    "\n",
    "# 3. Crear el nuevo campo 'DIAS' restando las fechas\n",
    "merged_df['DIAS'] = (merged_df['FECHA_LLAMADO'] - merged_df['FECHA CREACION PEDIDO']).dt.days\n",
    "\n",
    "# 4. Eliminar registros donde 'DIAS' sea menor a 0\n",
    "merged_df = merged_df[merged_df['DIAS'] >= 0]\n",
    "\n",
    "# 5. Eliminar duplicados\n",
    "merged_df.drop_duplicates(inplace=True)\n",
    "\n",
    "# 6. Crear el nuevo campo 'RANGO_DIAS' con los rangos especificados\n",
    "bins = [0, 5, 10, 15, 20, 25, 30, 60, 90, float('inf')]\n",
    "labels = [\n",
    "    '0-5 días', '6-10 días', '11-15 días', '16-20 días', \n",
    "    '21-25 días', '26-30 días', '31-60 días', '61-90 días', \n",
    "    'Más de 90 días'\n",
    "]\n",
    "merged_df['RANGO_DIAS'] = pd.cut(merged_df['DIAS'], bins=bins, labels=labels, right=True)\n",
    "\n"
   ]
  },
  {
   "cell_type": "code",
   "execution_count": null,
   "id": "3f66d78c-8c4b-433f-bd59-0e0962200e1b",
   "metadata": {},
   "outputs": [],
   "source": [
    "merged_df"
   ]
  },
  {
   "cell_type": "code",
   "execution_count": null,
   "id": "60da9f71-7216-49d7-b708-7996f9d40573",
   "metadata": {},
   "outputs": [],
   "source": [
    "# Crear el campo 'LLAVE' en merged_df\n",
    "merged_df['LLAVE'] = merged_df['RUT_CLIENTE'].astype(str) + merged_df['FECHA_LLAMADO'].astype(str)\n",
    "\n",
    "# Crear el campo 'LLAVE' en tipifica\n",
    "tipifica['LLAVE'] = tipifica['ID_CLIENTE'].astype(str) + tipifica['FECHA'].astype(str)\n",
    "\n",
    "# Realizar un left join para agregar los campos deseados desde tipifica a merged_df\n",
    "merged_df = merged_df.merge(\n",
    "    tipifica[['LLAVE', 'RAZON', 'DETALLE_RAZON',]],\n",
    "    on='LLAVE',\n",
    "    how='left'\n",
    ")"
   ]
  },
  {
   "cell_type": "code",
   "execution_count": null,
   "id": "5e1e91af-4ef7-4c7f-b1b8-3a6860ff261f",
   "metadata": {},
   "outputs": [],
   "source": [
    "merged_df.drop_duplicates(inplace=True)\n"
   ]
  },
  {
   "cell_type": "code",
   "execution_count": null,
   "id": "9e4b3818-e169-4fb9-a53d-5bac8cf49bd1",
   "metadata": {},
   "outputs": [],
   "source": [
    "merged_df"
   ]
  },
  {
   "cell_type": "code",
   "execution_count": null,
   "id": "2d39a6db-8079-4f05-8d51-33eb44f91069",
   "metadata": {},
   "outputs": [],
   "source": [
    "output_path = r\"C:\\Users\\wduran\\OneDrive - CLAROCHILE\\Team Churn Fijo\\Will Docs\\stock_merged_tipifica2.xlsx\"\n",
    "merged_df.to_excel(output_path, index=False)\n",
    "print(f\"Archivo guardado en: {output_path}\")"
   ]
  },
  {
   "cell_type": "code",
   "execution_count": null,
   "id": "9faccfdb-0447-4f67-b455-edbf546382c6",
   "metadata": {},
   "outputs": [],
   "source": [
    "merged_df"
   ]
  },
  {
   "cell_type": "markdown",
   "id": "5cd0d906-77ab-457b-b15d-88a62a971307",
   "metadata": {},
   "source": [
    "# PEDIDO DOS "
   ]
  },
  {
   "cell_type": "code",
   "execution_count": null,
   "id": "f5f0aa81-7556-4fa1-8699-646eee9cece5",
   "metadata": {},
   "outputs": [],
   "source": [
    "import pandas as pd\n",
    "\n",
    "# Define la ruta del archivo\n",
    "ruta_archivo = r\"C:\\Users\\wduran\\OneDrive - CLAROCHILE\\Team Churn Fijo\\Will Docs\\Traza Retencion.xlsx\"\n",
    "\n",
    "# Lee el archivo Excel (por defecto lee la primera hoja)\n",
    "traza_rete = pd.read_excel(ruta_archivo)\n",
    "\n",
    "# Asegúrate de que la columna FECHA_LLAMADO sea de tipo datetime\n",
    "traza_rete['FECHA_LLAMADO'] = pd.to_datetime(traza_rete['FECHA_LLAMADO'], errors='coerce')\n",
    "\n",
    "# Filtra solo los registros del mes 10 (octubre)\n",
    "traza_oct = traza_rete[traza_rete['FECHA_LLAMADO'].dt.month == 10]"
   ]
  },
  {
   "cell_type": "code",
   "execution_count": null,
   "id": "6d5f5fe5-e513-43c7-a39a-e4dfa39277f3",
   "metadata": {},
   "outputs": [],
   "source": [
    "traza_oct"
   ]
  },
  {
   "cell_type": "code",
   "execution_count": null,
   "id": "f51ab749-df5e-4dca-93ce-6d8f66eafb5a",
   "metadata": {},
   "outputs": [],
   "source": [
    "stock = pd.read_csv(r\"C:\\Users\\wduran\\CLAROCHILE\\Revenue Management, CBM y Calidad de Venta - Documentos\\CBM\\FIJO\\STOCKS\\VTR\\TABLAE VL\\202410_StockTotal_VL.csv\", sep=\",\", encoding='latin-1')\n",
    "pd.set_option('display.max_columns', None)"
   ]
  },
  {
   "cell_type": "code",
   "execution_count": null,
   "id": "98b6f02b-724f-47a1-adeb-9aa6dd402051",
   "metadata": {},
   "outputs": [],
   "source": [
    "stock.sample(2)"
   ]
  },
  {
   "cell_type": "code",
   "execution_count": null,
   "id": "6c963ac2-f627-466f-be34-3073e0550900",
   "metadata": {},
   "outputs": [],
   "source": [
    "# Asegurarse de que el campo ID_CLIENTE sea tratado como string\n",
    "stock['ID_CLIENTE'] = stock['ID_CLIENTE'].astype(str)\n",
    "\n",
    "# Agregar ceros a la izquierda para que todos tengan un largo de 12 dígitos\n",
    "stock['ID_CLIENTE'] = stock['ID_CLIENTE'].str.zfill(12)"
   ]
  },
  {
   "cell_type": "code",
   "execution_count": null,
   "id": "1334cc38-58a5-4d6f-a4c8-b6a533efc4ab",
   "metadata": {},
   "outputs": [],
   "source": [
    "stock['X_OCS_TIPO_RED_PROD'].value_counts()"
   ]
  },
  {
   "cell_type": "code",
   "execution_count": null,
   "id": "47f841e4-9cb3-45ac-9795-d20d990d6f7c",
   "metadata": {},
   "outputs": [],
   "source": []
  },
  {
   "cell_type": "code",
   "execution_count": null,
   "id": "42752487-814f-48ba-8aab-e7f7748f0d23",
   "metadata": {},
   "outputs": [],
   "source": [
    "# Realizar el merge usando un inner join para conservar solo los registros coincidentes\n",
    "merged_df = pd.merge(\n",
    "    traza_oct,\n",
    "    stock[['ID_CLIENTE', 'X_OCS_TIPO_RED_PROD']],  # Solo tomamos los campos necesarios de 'stock'\n",
    "    left_on='RUT_CLIENTE',\n",
    "    right_on='ID_CLIENTE',\n",
    "    how='inner'  # Esto elimina automáticamente los registros que no coinciden\n",
    ")"
   ]
  },
  {
   "cell_type": "code",
   "execution_count": null,
   "id": "2371ac31-4489-47e0-b0b5-ad0cf3e1d3c1",
   "metadata": {},
   "outputs": [],
   "source": [
    "merged_df"
   ]
  },
  {
   "cell_type": "code",
   "execution_count": null,
   "id": "44bafba6-56a1-4c66-9cac-3d19bb1739e3",
   "metadata": {},
   "outputs": [],
   "source": [
    "merged_df.drop_duplicates(inplace=True)\n"
   ]
  },
  {
   "cell_type": "code",
   "execution_count": null,
   "id": "9fbe1ca5-004e-4339-b844-f452c8c63e1a",
   "metadata": {},
   "outputs": [],
   "source": [
    "merged_df"
   ]
  },
  {
   "cell_type": "code",
   "execution_count": null,
   "id": "c185944f-8ba0-4828-96cc-e04d67566ee8",
   "metadata": {},
   "outputs": [],
   "source": [
    "import pandas as pd\n",
    "\n",
    "# Define la ruta del archivo Excel\n",
    "ruta_archivo = r\"C:\\Users\\wduran\\OneDrive - CLAROCHILE\\Team Churn Fijo\\Will Docs\\base stock clientes.xlsx\"\n",
    "\n",
    "# Lee el archivo Excel en un DataFrame\n",
    "df = pd.read_excel(ruta_archivo)\n",
    "\n",
    "\n",
    "# Verifica si hay valores nulos después de la conversión\n",
    "nulos = df['FECHA CREACION PEDIDO'].isnull().sum()\n",
    "print(f\"Cantidad de fechas no convertidas: {nulos}\")\n",
    "\n"
   ]
  },
  {
   "cell_type": "code",
   "execution_count": null,
   "id": "730278bb-4369-40a4-9d02-5cb82844769c",
   "metadata": {},
   "outputs": [],
   "source": [
    "df"
   ]
  },
  {
   "cell_type": "code",
   "execution_count": null,
   "id": "914d7afb-4a1a-40a9-ab54-15831ff0b9c3",
   "metadata": {},
   "outputs": [],
   "source": [
    "# Asegúrate de que las columnas que vas a utilizar para el join estén en el formato correcto\n",
    "merged_df['RUT_CLIENTE'] = merged_df['RUT_CLIENTE'].astype(str)\n",
    "df['Rut'] = df['Rut'].astype(str)\n",
    "\n",
    "# Realizar el join para agregar la columna 'Tipo Actividad'\n",
    "merged_df = merged_df.merge(\n",
    "    df[['Rut', 'Tipo Actividad']],\n",
    "    how='left',\n",
    "    left_on='RUT_CLIENTE',\n",
    "    right_on='Rut'\n",
    ")\n",
    "\n",
    "# Elimina la columna 'Rut' después del merge si ya no es necesaria\n",
    "merged_df.drop(columns=['Rut'], inplace=True)\n"
   ]
  },
  {
   "cell_type": "code",
   "execution_count": null,
   "id": "a03a7a45-3657-4e22-adf2-77aa3a92d1a6",
   "metadata": {},
   "outputs": [],
   "source": [
    "merged_df"
   ]
  },
  {
   "cell_type": "code",
   "execution_count": null,
   "id": "ab6b716f-aedf-47f6-b8f2-e40fc5268d0a",
   "metadata": {},
   "outputs": [],
   "source": [
    "output_path = r\"C:\\Users\\wduran\\OneDrive - CLAROCHILE\\Team Churn Fijo\\Will Docs\\stock_Llamados_rete_COMPLETOS.xlsx\"\n",
    "merged_df.to_excel(output_path, index=False)\n",
    "print(f\"Archivo guardado en: {output_path}\")"
   ]
  },
  {
   "cell_type": "code",
   "execution_count": null,
   "id": "b86d1001-b302-492a-8746-634b6d56dd80",
   "metadata": {},
   "outputs": [],
   "source": [
    "import pandas as pd\n",
    "\n",
    "stock_neutra = pd.read_csv(r\"C:\\Users\\wduran\\CLAROCHILE\\Revenue Management, CBM y Calidad de Venta - Documentos\\CBM\\FIJO\\KAO\\Base Neutra\\Base Neutra.csv\", sep=\",\", encoding='latin-1')\n",
    "pd.set_option('display.max_columns', None)"
   ]
  },
  {
   "cell_type": "code",
   "execution_count": null,
   "id": "34a88b2e-caed-4b09-96c4-3ed256eebc08",
   "metadata": {},
   "outputs": [],
   "source": [
    "stock_neutra.sample(2)"
   ]
  },
  {
   "cell_type": "code",
   "execution_count": null,
   "id": "80b71580-7e1d-46d6-957b-5f35b60dcaef",
   "metadata": {},
   "outputs": [],
   "source": [
    "# Asegurarse de que el campo ID_CLIENTE sea tratado como string\n",
    "stock_neutra['ID_CLIENTE_x'] = stock_neutra['ID_CLIENTE_x'].astype(str)\n",
    "\n",
    "# Agregar ceros a la izquierda para que todos tengan un largo de 12 dígitos\n",
    "stock_neutra['ID_CLIENTE_x'] = stock_neutra['ID_CLIENTE_x'].str.zfill(12)"
   ]
  },
  {
   "cell_type": "code",
   "execution_count": null,
   "id": "09bdf7b4-3165-45d4-82d1-f47014d22084",
   "metadata": {},
   "outputs": [],
   "source": [
    "stock_neutra"
   ]
  },
  {
   "cell_type": "code",
   "execution_count": null,
   "id": "4e4b1941-8716-4a45-9959-3c3e319eb0f2",
   "metadata": {},
   "outputs": [],
   "source": [
    "# Define la ruta del archivo Excel\n",
    "ruta_archivo = r\"C:\\Users\\wduran\\OneDrive - CLAROCHILE\\Team Churn Fijo\\Will Docs\\Pedidos Varios\\Analisis Trazas Retencion - copia.xlsx\"\n",
    "\n",
    "# Lee el archivo Excel en un DataFrame\n",
    "dfV2 = pd.read_excel(ruta_archivo)"
   ]
  },
  {
   "cell_type": "code",
   "execution_count": null,
   "id": "27c37339-caeb-40a2-8e34-a5c29f0c8d7d",
   "metadata": {},
   "outputs": [],
   "source": [
    "dfV2"
   ]
  },
  {
   "cell_type": "code",
   "execution_count": null,
   "id": "301c6798-4b9a-4a66-a53a-55b76cf9e6da",
   "metadata": {},
   "outputs": [],
   "source": [
    "# Realizar el join entre dfV2 y stock_neutra\n",
    "dfV2 = pd.merge(dfV2, stock_neutra[['ID_CLIENTE_x', 'NEUTRA']], \n",
    "                left_on='RUT_CLIENTE', \n",
    "                right_on='ID_CLIENTE_x', \n",
    "                how='left')\n",
    "\n",
    "# Rellenar valores nulos en el campo NEUTRA con 0\n",
    "dfV2['NEUTRA'] = dfV2['NEUTRA'].fillna(0)\n",
    "\n",
    "# Eliminar la columna ID_CLIENTE_x que se agregó durante el merge, si no la necesitas\n",
    "dfV2.drop(columns=['ID_CLIENTE_x'], inplace=True)\n"
   ]
  },
  {
   "cell_type": "code",
   "execution_count": null,
   "id": "addf58dd-225c-4c7f-b5e7-9e21ec0dc521",
   "metadata": {},
   "outputs": [],
   "source": [
    "dfV2.drop_duplicates(inplace=True)"
   ]
  },
  {
   "cell_type": "code",
   "execution_count": null,
   "id": "75587ae2-00bd-478a-8c91-6da5895f67c2",
   "metadata": {},
   "outputs": [],
   "source": [
    "dfV2"
   ]
  },
  {
   "cell_type": "code",
   "execution_count": null,
   "id": "aa8204c6-d113-46bf-a84d-a40ac860120a",
   "metadata": {},
   "outputs": [],
   "source": [
    "output_path = r\"C:\\Users\\wduran\\OneDrive - CLAROCHILE\\Team Churn Fijo\\Will Docs\\Analisis Trazas Retencion_VF.xlsx\"\n",
    "dfV2.to_excel(output_path, index=False)\n",
    "print(f\"Archivo guardado en: {output_path}\")"
   ]
  },
  {
   "cell_type": "markdown",
   "id": "8e43df6a-aa94-42f2-815a-fd2bb0075a3a",
   "metadata": {},
   "source": [
    "# Sacar output de escuchas "
   ]
  },
  {
   "cell_type": "code",
   "execution_count": null,
   "id": "989d47c3-77f4-4f85-975a-1e399f3b75d1",
   "metadata": {},
   "outputs": [],
   "source": [
    "import pandas as pd\n",
    "\n",
    "# Ruta del archivo Excel\n",
    "file_path = r\"C:\\Users\\wduran\\OneDrive - CLAROCHILE\\Team Churn Fijo\\Will Docs\\Pedidos Varios\\Analisis Trazas Retencion_VF.xlsx\"\n",
    "\n",
    "# Leer la hoja \"BASE\"\n",
    "df_base = pd.read_excel(file_path, sheet_name='BASE')"
   ]
  },
  {
   "cell_type": "code",
   "execution_count": null,
   "id": "36202842-5139-464c-bbd0-9ff315d3ed5b",
   "metadata": {},
   "outputs": [],
   "source": [
    "df_base"
   ]
  },
  {
   "cell_type": "code",
   "execution_count": null,
   "id": "04ce7111-575f-4d5a-8fdc-4a3a87d70296",
   "metadata": {},
   "outputs": [],
   "source": [
    "# Filtrar por los criterios dados\n",
    "filtered_df = df_base[\n",
    "    (df_base['X_OCS_TIPO_RED_PROD'] == 'NFTT') & \n",
    "    (df_base['NEUTRA'].isin(['MIGRACION', 'VENTA']))\n",
    "]\n",
    "\n",
    "# Eliminar duplicados basado en el campo 'RUT_CLIENTE'\n",
    "filtered_df = filtered_df.drop_duplicates(subset='RUT_CLIENTE')"
   ]
  },
  {
   "cell_type": "code",
   "execution_count": null,
   "id": "ffc3ec3b-530f-4190-b32a-f288f6ed1ce1",
   "metadata": {},
   "outputs": [],
   "source": [
    "filtered_df.sample(2)"
   ]
  },
  {
   "cell_type": "code",
   "execution_count": null,
   "id": "e47c4798-ba5a-4f89-ad48-43642acf9bfc",
   "metadata": {},
   "outputs": [],
   "source": [
    "# Define la ruta del archivo\n",
    "ruta_archivo = r\"C:\\Users\\wduran\\OneDrive - CLAROCHILE\\Team Churn Fijo\\Will Docs\\Pedidos Varios\\Base Tipificaciones Septiembre VTR- 20 de octubre VRM.xlsx\"\n",
    "\n",
    "# Lee el archivo Excel (por defecto lee la primera hoja)\n",
    "tipifica = pd.read_excel(ruta_archivo)"
   ]
  },
  {
   "cell_type": "code",
   "execution_count": null,
   "id": "ee098ee6-b3c3-4cc6-ba72-ac0350003f44",
   "metadata": {},
   "outputs": [],
   "source": [
    "tipifica.sample(2)"
   ]
  },
  {
   "cell_type": "code",
   "execution_count": null,
   "id": "8c6842cc-0645-4a33-8923-d2bafb2bd5fd",
   "metadata": {},
   "outputs": [],
   "source": [
    "# Crear el campo 'LLAVE' en merged_df\n",
    "filtered_df['LLAVE'] = filtered_df['RUT_CLIENTE'].astype(str) + filtered_df['FECHA_LLAMADO'].astype(str)\n",
    "\n",
    "# Crear el campo 'LLAVE' en tipifica\n",
    "tipifica['LLAVE'] = tipifica['ID_CLIENTE'].astype(str) + tipifica['FECHA'].astype(str)\n",
    "\n",
    "# Realizar un left join para agregar los campos deseados desde tipifica a merged_df\n",
    "tipifica_merged = filtered_df.merge(\n",
    "    tipifica[['LLAVE', 'RAZON', 'DETALLE_RAZON',]],\n",
    "    on='LLAVE',\n",
    "    how='left'\n",
    ")"
   ]
  },
  {
   "cell_type": "code",
   "execution_count": null,
   "id": "6fdc3861-983d-4d6f-a22b-6697620de061",
   "metadata": {},
   "outputs": [],
   "source": [
    "tipifica_merged"
   ]
  },
  {
   "cell_type": "code",
   "execution_count": null,
   "id": "dbd9ce95-3f5e-45b6-8054-2927ba84905b",
   "metadata": {},
   "outputs": [],
   "source": [
    "tipifica_merged.drop_duplicates(inplace=True)"
   ]
  },
  {
   "cell_type": "code",
   "execution_count": null,
   "id": "c830533d-bd4b-47e6-90cc-775011424831",
   "metadata": {},
   "outputs": [],
   "source": [
    "output_path = r\"C:\\Users\\wduran\\OneDrive - CLAROCHILE\\Team Churn Fijo\\Will Docs\\Pedidos Varios\\Analisis Traza Retencion Tipifica escuchas.xlsx\"\n",
    "tipifica_merged.to_excel(output_path, index=False)\n",
    "print(f\"Archivo guardado en: {output_path}\")"
   ]
  },
  {
   "cell_type": "markdown",
   "id": "c3ddfbb5-70a7-49ec-be83-e585ce85c7d8",
   "metadata": {},
   "source": [
    "# Analisis Completo"
   ]
  },
  {
   "cell_type": "code",
   "execution_count": 1,
   "id": "31499092-1227-4233-a828-d467faf2b74f",
   "metadata": {},
   "outputs": [],
   "source": [
    "import pandas as pd\n",
    "\n",
    "# Ruta del archivo Excel\n",
    "file_path = r\"C:\\Users\\wduran\\OneDrive - CLAROCHILE\\Team Churn Fijo\\Will Docs\\Pedidos Varios\\Analisis Trazas Retencion_VF.xlsx\"\n",
    "\n",
    "# Leer la hoja \"BASE\"\n",
    "df_base = pd.read_excel(file_path, sheet_name='BASE')\n",
    "\n",
    "# Eliminar duplicados basado en el campo 'RUT_CLIENTE'\n",
    "df_base = df_base.drop_duplicates(subset='RUT_CLIENTE')"
   ]
  },
  {
   "cell_type": "code",
   "execution_count": 2,
   "id": "da23f4d5-8e8b-4e84-a24a-29d443b8ad5b",
   "metadata": {},
   "outputs": [],
   "source": [
    "# Define la ruta del archivo\n",
    "ruta_archivo = r\"C:\\Users\\wduran\\OneDrive - CLAROCHILE\\Team Churn Fijo\\Will Docs\\Pedidos Varios\\Base Tipificaciones Septiembre VTR- 20 de octubre VRM.xlsx\"\n",
    "\n",
    "# Lee el archivo Excel (por defecto lee la primera hoja)\n",
    "tipifica = pd.read_excel(ruta_archivo)"
   ]
  },
  {
   "cell_type": "code",
   "execution_count": 3,
   "id": "2fd18b25-0345-42a1-af0b-eba6333125c5",
   "metadata": {},
   "outputs": [],
   "source": [
    "# Crear el campo 'LLAVE' en merged_df\n",
    "df_base['LLAVE'] = df_base['RUT_CLIENTE'].astype(str) + df_base['FECHA_LLAMADO'].astype(str)\n",
    "\n",
    "# Crear el campo 'LLAVE' en tipifica\n",
    "tipifica['LLAVE'] = tipifica['ID_CLIENTE'].astype(str) + tipifica['FECHA'].astype(str)\n",
    "\n",
    "# Realizar un left join para agregar los campos deseados desde tipifica a merged_df\n",
    "tipifica_merged = df_base.merge(\n",
    "    tipifica[['LLAVE', 'RAZON', 'DETALLE_RAZON',]],\n",
    "    on='LLAVE',\n",
    "    how='left'\n",
    ")"
   ]
  },
  {
   "cell_type": "code",
   "execution_count": 4,
   "id": "3207a464-bdba-448b-af1e-25035a34f69e",
   "metadata": {},
   "outputs": [],
   "source": [
    "tipifica_merged.drop_duplicates(inplace=True)"
   ]
  },
  {
   "cell_type": "code",
   "execution_count": 5,
   "id": "daca253b-bf95-4e28-a334-c6fe5b887760",
   "metadata": {},
   "outputs": [
    {
     "data": {
      "text/html": [
       "<div>\n",
       "<style scoped>\n",
       "    .dataframe tbody tr th:only-of-type {\n",
       "        vertical-align: middle;\n",
       "    }\n",
       "\n",
       "    .dataframe tbody tr th {\n",
       "        vertical-align: top;\n",
       "    }\n",
       "\n",
       "    .dataframe thead th {\n",
       "        text-align: right;\n",
       "    }\n",
       "</style>\n",
       "<table border=\"1\" class=\"dataframe\">\n",
       "  <thead>\n",
       "    <tr style=\"text-align: right;\">\n",
       "      <th></th>\n",
       "      <th>RUT_CLIENTE</th>\n",
       "      <th>FECHA_LLAMADO</th>\n",
       "      <th>ID_ASESOR</th>\n",
       "      <th>USER_ASESOR</th>\n",
       "      <th>TIEMPO_HABLADO</th>\n",
       "      <th>CALLCENTER</th>\n",
       "      <th>X_OCS_TIPO_RED_PROD</th>\n",
       "      <th>Tipo Actividad</th>\n",
       "      <th>NEUTRA</th>\n",
       "      <th>LLAVE</th>\n",
       "      <th>RAZON</th>\n",
       "      <th>DETALLE_RAZON</th>\n",
       "    </tr>\n",
       "  </thead>\n",
       "  <tbody>\n",
       "    <tr>\n",
       "      <th>0</th>\n",
       "      <td>0004770330-1</td>\n",
       "      <td>2024-10-01</td>\n",
       "      <td>57285634-8</td>\n",
       "      <td>malvarezf</td>\n",
       "      <td>814</td>\n",
       "      <td>TP Colombia</td>\n",
       "      <td>NFTT</td>\n",
       "      <td>Repa</td>\n",
       "      <td>VENTA</td>\n",
       "      <td>0004770330-12024-10-01</td>\n",
       "      <td>Producto y Propuesta de Valor</td>\n",
       "      <td>No puede pagar</td>\n",
       "    </tr>\n",
       "    <tr>\n",
       "      <th>1</th>\n",
       "      <td>0006891130-3</td>\n",
       "      <td>2024-10-01</td>\n",
       "      <td>57293742-9</td>\n",
       "      <td>lucantero</td>\n",
       "      <td>1391</td>\n",
       "      <td>TP Colombia</td>\n",
       "      <td>NFTT</td>\n",
       "      <td>Alta</td>\n",
       "      <td>VENTA</td>\n",
       "      <td>0006891130-32024-10-01</td>\n",
       "      <td>Producto y Propuesta de Valor</td>\n",
       "      <td>Oferta menos atractiva</td>\n",
       "    </tr>\n",
       "    <tr>\n",
       "      <th>2</th>\n",
       "      <td>0007558546-2</td>\n",
       "      <td>2024-10-01</td>\n",
       "      <td>57289714-1</td>\n",
       "      <td>ksuaza</td>\n",
       "      <td>801</td>\n",
       "      <td>IBR Colombia</td>\n",
       "      <td>NFTT</td>\n",
       "      <td>NaN</td>\n",
       "      <td>VENTA</td>\n",
       "      <td>0007558546-22024-10-01</td>\n",
       "      <td>Producto y Propuesta de Valor</td>\n",
       "      <td>Oferta menos atractiva</td>\n",
       "    </tr>\n",
       "    <tr>\n",
       "      <th>3</th>\n",
       "      <td>0007564311-K</td>\n",
       "      <td>2024-10-01</td>\n",
       "      <td>50753304-3</td>\n",
       "      <td>mvilladao</td>\n",
       "      <td>706</td>\n",
       "      <td>TP Colombia</td>\n",
       "      <td>NFTT</td>\n",
       "      <td>NaN</td>\n",
       "      <td>VENTA</td>\n",
       "      <td>0007564311-K2024-10-01</td>\n",
       "      <td>Servicio Comercial</td>\n",
       "      <td>Boleta excesiva o incorrecta</td>\n",
       "    </tr>\n",
       "    <tr>\n",
       "      <th>4</th>\n",
       "      <td>0007971727-4</td>\n",
       "      <td>2024-10-01</td>\n",
       "      <td>57285650-K</td>\n",
       "      <td>cchaparroc</td>\n",
       "      <td>1253</td>\n",
       "      <td>TP Colombia</td>\n",
       "      <td>NFTT</td>\n",
       "      <td>Alta</td>\n",
       "      <td>VENTA</td>\n",
       "      <td>0007971727-42024-10-01</td>\n",
       "      <td>NaN</td>\n",
       "      <td>NaN</td>\n",
       "    </tr>\n",
       "    <tr>\n",
       "      <th>...</th>\n",
       "      <td>...</td>\n",
       "      <td>...</td>\n",
       "      <td>...</td>\n",
       "      <td>...</td>\n",
       "      <td>...</td>\n",
       "      <td>...</td>\n",
       "      <td>...</td>\n",
       "      <td>...</td>\n",
       "      <td>...</td>\n",
       "      <td>...</td>\n",
       "      <td>...</td>\n",
       "      <td>...</td>\n",
       "    </tr>\n",
       "    <tr>\n",
       "      <th>40734</th>\n",
       "      <td>0027863862-6</td>\n",
       "      <td>2024-10-31</td>\n",
       "      <td>50753304-3</td>\n",
       "      <td>mvilladao</td>\n",
       "      <td>302</td>\n",
       "      <td>TP Colombia</td>\n",
       "      <td>HFC</td>\n",
       "      <td>NaN</td>\n",
       "      <td>NaN</td>\n",
       "      <td>0027863862-62024-10-31</td>\n",
       "      <td>Producto y Propuesta de Valor</td>\n",
       "      <td>Productos no utilizados</td>\n",
       "    </tr>\n",
       "    <tr>\n",
       "      <th>40735</th>\n",
       "      <td>0028085311-9</td>\n",
       "      <td>2024-10-31</td>\n",
       "      <td>57284315-7</td>\n",
       "      <td>sortizo</td>\n",
       "      <td>1133</td>\n",
       "      <td>TP Colombia</td>\n",
       "      <td>FTTH</td>\n",
       "      <td>NaN</td>\n",
       "      <td>NaN</td>\n",
       "      <td>0028085311-92024-10-31</td>\n",
       "      <td>Producto y Propuesta de Valor</td>\n",
       "      <td>No puede pagar</td>\n",
       "    </tr>\n",
       "    <tr>\n",
       "      <th>40736</th>\n",
       "      <td>0077537385-7</td>\n",
       "      <td>2024-10-31</td>\n",
       "      <td>57274552-K</td>\n",
       "      <td>ymuozg</td>\n",
       "      <td>817</td>\n",
       "      <td>TP Colombia</td>\n",
       "      <td>HFC</td>\n",
       "      <td>NaN</td>\n",
       "      <td>NaN</td>\n",
       "      <td>0077537385-72024-10-31</td>\n",
       "      <td>Servicio técnico</td>\n",
       "      <td>Servicio técnico deficiente</td>\n",
       "    </tr>\n",
       "    <tr>\n",
       "      <th>40737</th>\n",
       "      <td>0077932337-4</td>\n",
       "      <td>2024-10-31</td>\n",
       "      <td>58049854-k</td>\n",
       "      <td>agarcesy</td>\n",
       "      <td>860</td>\n",
       "      <td>TP Colombia</td>\n",
       "      <td>FTTH</td>\n",
       "      <td>NaN</td>\n",
       "      <td>NaN</td>\n",
       "      <td>0077932337-42024-10-31</td>\n",
       "      <td>Servicio técnico</td>\n",
       "      <td>No funciona como lo esperado</td>\n",
       "    </tr>\n",
       "    <tr>\n",
       "      <th>40738</th>\n",
       "      <td>0096897770-9</td>\n",
       "      <td>2024-10-31</td>\n",
       "      <td>57274568-6</td>\n",
       "      <td>afrancoz</td>\n",
       "      <td>12</td>\n",
       "      <td>TP Colombia</td>\n",
       "      <td>HFC</td>\n",
       "      <td>NaN</td>\n",
       "      <td>NaN</td>\n",
       "      <td>0096897770-92024-10-31</td>\n",
       "      <td>Producto y Propuesta de Valor</td>\n",
       "      <td>Oferta menos atractiva</td>\n",
       "    </tr>\n",
       "  </tbody>\n",
       "</table>\n",
       "<p>38492 rows × 12 columns</p>\n",
       "</div>"
      ],
      "text/plain": [
       "        RUT_CLIENTE FECHA_LLAMADO   ID_ASESOR USER_ASESOR  TIEMPO_HABLADO  \\\n",
       "0      0004770330-1    2024-10-01  57285634-8   malvarezf             814   \n",
       "1      0006891130-3    2024-10-01  57293742-9   lucantero            1391   \n",
       "2      0007558546-2    2024-10-01  57289714-1      ksuaza             801   \n",
       "3      0007564311-K    2024-10-01  50753304-3   mvilladao             706   \n",
       "4      0007971727-4    2024-10-01  57285650-K  cchaparroc            1253   \n",
       "...             ...           ...         ...         ...             ...   \n",
       "40734  0027863862-6    2024-10-31  50753304-3   mvilladao             302   \n",
       "40735  0028085311-9    2024-10-31  57284315-7     sortizo            1133   \n",
       "40736  0077537385-7    2024-10-31  57274552-K      ymuozg             817   \n",
       "40737  0077932337-4    2024-10-31  58049854-k    agarcesy             860   \n",
       "40738  0096897770-9    2024-10-31  57274568-6    afrancoz              12   \n",
       "\n",
       "         CALLCENTER X_OCS_TIPO_RED_PROD Tipo Actividad NEUTRA  \\\n",
       "0       TP Colombia                NFTT           Repa  VENTA   \n",
       "1       TP Colombia                NFTT           Alta  VENTA   \n",
       "2      IBR Colombia                NFTT            NaN  VENTA   \n",
       "3       TP Colombia                NFTT            NaN  VENTA   \n",
       "4       TP Colombia                NFTT           Alta  VENTA   \n",
       "...             ...                 ...            ...    ...   \n",
       "40734   TP Colombia                 HFC            NaN    NaN   \n",
       "40735   TP Colombia                FTTH            NaN    NaN   \n",
       "40736   TP Colombia                 HFC            NaN    NaN   \n",
       "40737   TP Colombia                FTTH            NaN    NaN   \n",
       "40738   TP Colombia                 HFC            NaN    NaN   \n",
       "\n",
       "                        LLAVE                          RAZON  \\\n",
       "0      0004770330-12024-10-01  Producto y Propuesta de Valor   \n",
       "1      0006891130-32024-10-01  Producto y Propuesta de Valor   \n",
       "2      0007558546-22024-10-01  Producto y Propuesta de Valor   \n",
       "3      0007564311-K2024-10-01             Servicio Comercial   \n",
       "4      0007971727-42024-10-01                            NaN   \n",
       "...                       ...                            ...   \n",
       "40734  0027863862-62024-10-31  Producto y Propuesta de Valor   \n",
       "40735  0028085311-92024-10-31  Producto y Propuesta de Valor   \n",
       "40736  0077537385-72024-10-31               Servicio técnico   \n",
       "40737  0077932337-42024-10-31               Servicio técnico   \n",
       "40738  0096897770-92024-10-31  Producto y Propuesta de Valor   \n",
       "\n",
       "                      DETALLE_RAZON  \n",
       "0                    No puede pagar  \n",
       "1            Oferta menos atractiva  \n",
       "2            Oferta menos atractiva  \n",
       "3      Boleta excesiva o incorrecta  \n",
       "4                               NaN  \n",
       "...                             ...  \n",
       "40734       Productos no utilizados  \n",
       "40735                No puede pagar  \n",
       "40736   Servicio técnico deficiente  \n",
       "40737  No funciona como lo esperado  \n",
       "40738        Oferta menos atractiva  \n",
       "\n",
       "[38492 rows x 12 columns]"
      ]
     },
     "execution_count": 5,
     "metadata": {},
     "output_type": "execute_result"
    }
   ],
   "source": [
    "tipifica_merged"
   ]
  },
  {
   "cell_type": "code",
   "execution_count": 6,
   "id": "1489b66b-fe74-4e32-a49f-2624946d20d9",
   "metadata": {},
   "outputs": [
    {
     "name": "stdout",
     "output_type": "stream",
     "text": [
      "Archivo guardado en: C:\\Users\\wduran\\OneDrive - CLAROCHILE\\Team Churn Fijo\\Will Docs\\Pedidos Varios\\Analisis Traza Retencion Tipifica escuchas Completas.xlsx\n"
     ]
    }
   ],
   "source": [
    "output_path = r\"C:\\Users\\wduran\\OneDrive - CLAROCHILE\\Team Churn Fijo\\Will Docs\\Pedidos Varios\\Analisis Traza Retencion Tipifica escuchas Completas.xlsx\"\n",
    "tipifica_merged.to_excel(output_path, index=False)\n",
    "print(f\"Archivo guardado en: {output_path}\")"
   ]
  },
  {
   "cell_type": "markdown",
   "id": "ec9e1cd1-83bb-4467-a106-651e0c22e766",
   "metadata": {},
   "source": [
    "#  Audios base para escuchas  "
   ]
  },
  {
   "cell_type": "code",
   "execution_count": 7,
   "id": "7c10ad1f-652c-46c1-9d7a-465056937658",
   "metadata": {},
   "outputs": [],
   "source": [
    "import pandas as pd\n",
    "\n",
    "# Define la ruta del archivo\n",
    "ruta_archivo = r\"C:\\Users\\wduran\\OneDrive - CLAROCHILE\\Team Churn Fijo\\Will Docs\\Pedidos Varios\\traza audios migraciones Oct.xlsx\"\n",
    "\n",
    "# Lee el archivo Excel (por defecto lee la primera hoja)\n",
    "traza_rete = pd.read_excel(ruta_archivo)"
   ]
  },
  {
   "cell_type": "code",
   "execution_count": 11,
   "id": "259a4270-a7f9-4fe9-b457-2045609e7d65",
   "metadata": {},
   "outputs": [
    {
     "data": {
      "text/html": [
       "<div>\n",
       "<style scoped>\n",
       "    .dataframe tbody tr th:only-of-type {\n",
       "        vertical-align: middle;\n",
       "    }\n",
       "\n",
       "    .dataframe tbody tr th {\n",
       "        vertical-align: top;\n",
       "    }\n",
       "\n",
       "    .dataframe thead th {\n",
       "        text-align: right;\n",
       "    }\n",
       "</style>\n",
       "<table border=\"1\" class=\"dataframe\">\n",
       "  <thead>\n",
       "    <tr style=\"text-align: right;\">\n",
       "      <th></th>\n",
       "      <th>FECHA</th>\n",
       "      <th>ID_ASESOR</th>\n",
       "      <th>USER_ASESOR</th>\n",
       "      <th>TIEMPO_HABLADO</th>\n",
       "      <th>ASTERISKCALLID</th>\n",
       "      <th>CALLCENTER</th>\n",
       "    </tr>\n",
       "  </thead>\n",
       "  <tbody>\n",
       "    <tr>\n",
       "      <th>77453</th>\n",
       "      <td>2024-10-18</td>\n",
       "      <td>57296172-9</td>\n",
       "      <td>ccastilloh</td>\n",
       "      <td>1682</td>\n",
       "      <td>S2-AST02P-1729271887.429039</td>\n",
       "      <td>TP Colombia</td>\n",
       "    </tr>\n",
       "    <tr>\n",
       "      <th>44398</th>\n",
       "      <td>2024-10-30</td>\n",
       "      <td>57268929-8</td>\n",
       "      <td>manuez</td>\n",
       "      <td>494</td>\n",
       "      <td>S2-AST04P-1730322659.573945</td>\n",
       "      <td>IBR Colombia</td>\n",
       "    </tr>\n",
       "  </tbody>\n",
       "</table>\n",
       "</div>"
      ],
      "text/plain": [
       "           FECHA   ID_ASESOR USER_ASESOR  TIEMPO_HABLADO  \\\n",
       "77453 2024-10-18  57296172-9  ccastilloh            1682   \n",
       "44398 2024-10-30  57268929-8      manuez             494   \n",
       "\n",
       "                    ASTERISKCALLID    CALLCENTER  \n",
       "77453  S2-AST02P-1729271887.429039   TP Colombia  \n",
       "44398  S2-AST04P-1730322659.573945  IBR Colombia  "
      ]
     },
     "execution_count": 11,
     "metadata": {},
     "output_type": "execute_result"
    }
   ],
   "source": [
    "traza_rete.sample(2)"
   ]
  },
  {
   "cell_type": "code",
   "execution_count": 9,
   "id": "33c95034-7862-4647-ac3b-a8b0acb0ef49",
   "metadata": {},
   "outputs": [],
   "source": [
    "# Define la ruta del archivo\n",
    "ruta_archivo = r\"C:\\Users\\wduran\\OneDrive - CLAROCHILE\\Team Churn Fijo\\Will Docs\\Pedidos Varios\\Audios Migracion Issues.xlsx\"\n",
    "\n",
    "# Lee el archivo Excel (por defecto lee la primera hoja)\n",
    "escuchas = pd.read_excel(ruta_archivo)"
   ]
  },
  {
   "cell_type": "code",
   "execution_count": 12,
   "id": "62d79943-aa6e-4d77-8845-5d1396c4887e",
   "metadata": {},
   "outputs": [
    {
     "data": {
      "text/html": [
       "<div>\n",
       "<style scoped>\n",
       "    .dataframe tbody tr th:only-of-type {\n",
       "        vertical-align: middle;\n",
       "    }\n",
       "\n",
       "    .dataframe tbody tr th {\n",
       "        vertical-align: top;\n",
       "    }\n",
       "\n",
       "    .dataframe thead th {\n",
       "        text-align: right;\n",
       "    }\n",
       "</style>\n",
       "<table border=\"1\" class=\"dataframe\">\n",
       "  <thead>\n",
       "    <tr style=\"text-align: right;\">\n",
       "      <th></th>\n",
       "      <th>RUT_CLIENTE</th>\n",
       "      <th>FECHA_LLAMADO</th>\n",
       "      <th>ID_ASESOR</th>\n",
       "      <th>USER_ASESOR</th>\n",
       "      <th>TIEMPO_HABLADO</th>\n",
       "      <th>CALLCENTER</th>\n",
       "      <th>X_OCS_TIPO_RED_PROD</th>\n",
       "      <th>Tipo Actividad</th>\n",
       "      <th>NEUTRA</th>\n",
       "      <th>RAZON</th>\n",
       "      <th>DETALLE_RAZON</th>\n",
       "    </tr>\n",
       "  </thead>\n",
       "  <tbody>\n",
       "    <tr>\n",
       "      <th>15</th>\n",
       "      <td>0009623566-6</td>\n",
       "      <td>2024-10-30</td>\n",
       "      <td>57290785-6</td>\n",
       "      <td>varangot</td>\n",
       "      <td>1415</td>\n",
       "      <td>Fastco Col</td>\n",
       "      <td>NFTT</td>\n",
       "      <td>Migración</td>\n",
       "      <td>MIGRACION</td>\n",
       "      <td>Servicio Comercial</td>\n",
       "      <td>Boleta excesiva o incorrecta</td>\n",
       "    </tr>\n",
       "    <tr>\n",
       "      <th>2</th>\n",
       "      <td>0005474157-K</td>\n",
       "      <td>2024-10-30</td>\n",
       "      <td>57276634-9</td>\n",
       "      <td>dagonzalezp</td>\n",
       "      <td>1967</td>\n",
       "      <td>TP Colombia</td>\n",
       "      <td>NFTT</td>\n",
       "      <td>Migración</td>\n",
       "      <td>MIGRACION</td>\n",
       "      <td>Servicio Comercial</td>\n",
       "      <td>Boleta excesiva o incorrecta</td>\n",
       "    </tr>\n",
       "  </tbody>\n",
       "</table>\n",
       "</div>"
      ],
      "text/plain": [
       "     RUT_CLIENTE FECHA_LLAMADO   ID_ASESOR  USER_ASESOR  TIEMPO_HABLADO  \\\n",
       "15  0009623566-6    2024-10-30  57290785-6     varangot            1415   \n",
       "2   0005474157-K    2024-10-30  57276634-9  dagonzalezp            1967   \n",
       "\n",
       "     CALLCENTER X_OCS_TIPO_RED_PROD Tipo Actividad     NEUTRA  \\\n",
       "15   Fastco Col                NFTT      Migración  MIGRACION   \n",
       "2   TP Colombia                NFTT      Migración  MIGRACION   \n",
       "\n",
       "                 RAZON                 DETALLE_RAZON  \n",
       "15  Servicio Comercial  Boleta excesiva o incorrecta  \n",
       "2   Servicio Comercial  Boleta excesiva o incorrecta  "
      ]
     },
     "execution_count": 12,
     "metadata": {},
     "output_type": "execute_result"
    }
   ],
   "source": [
    "escuchas.sample(2)"
   ]
  },
  {
   "cell_type": "code",
   "execution_count": 21,
   "id": "5915565b-0ceb-4914-8858-b7599e55819a",
   "metadata": {},
   "outputs": [],
   "source": [
    "\n",
    "traza_rete['SUPER_LLAVE'] = (\n",
    "    traza_rete['FECHA'].astype(str) + \"_\" + \n",
    "    traza_rete['ID_ASESOR'].astype(str) + \"_\" + \n",
    "    traza_rete['TIEMPO_HABLADO'].astype(str) + \"_\" + \n",
    "    traza_rete['CALLCENTER'].astype(str)\n",
    ")"
   ]
  },
  {
   "cell_type": "code",
   "execution_count": 23,
   "id": "a20c5a55-c9f9-467c-aad5-ecded2710fb9",
   "metadata": {},
   "outputs": [
    {
     "data": {
      "text/html": [
       "<div>\n",
       "<style scoped>\n",
       "    .dataframe tbody tr th:only-of-type {\n",
       "        vertical-align: middle;\n",
       "    }\n",
       "\n",
       "    .dataframe tbody tr th {\n",
       "        vertical-align: top;\n",
       "    }\n",
       "\n",
       "    .dataframe thead th {\n",
       "        text-align: right;\n",
       "    }\n",
       "</style>\n",
       "<table border=\"1\" class=\"dataframe\">\n",
       "  <thead>\n",
       "    <tr style=\"text-align: right;\">\n",
       "      <th></th>\n",
       "      <th>FECHA</th>\n",
       "      <th>ID_ASESOR</th>\n",
       "      <th>USER_ASESOR</th>\n",
       "      <th>TIEMPO_HABLADO</th>\n",
       "      <th>ASTERISKCALLID</th>\n",
       "      <th>CALLCENTER</th>\n",
       "      <th>SUPER_LLAVE</th>\n",
       "    </tr>\n",
       "  </thead>\n",
       "  <tbody>\n",
       "    <tr>\n",
       "      <th>46035</th>\n",
       "      <td>2024-10-31</td>\n",
       "      <td>57270073-9</td>\n",
       "      <td>mcastillaj</td>\n",
       "      <td>3</td>\n",
       "      <td>S2-AST05P-1730422723.583456</td>\n",
       "      <td>IBR Colombia</td>\n",
       "      <td>2024-10-31_57270073-9_3_IBR Colombia</td>\n",
       "    </tr>\n",
       "    <tr>\n",
       "      <th>11100</th>\n",
       "      <td>2024-10-23</td>\n",
       "      <td>57293754-2</td>\n",
       "      <td>jgarciat</td>\n",
       "      <td>2335</td>\n",
       "      <td>S2-AST01P-1729711453.491833</td>\n",
       "      <td>TP Colombia</td>\n",
       "      <td>2024-10-23_57293754-2_2335_TP Colombia</td>\n",
       "    </tr>\n",
       "  </tbody>\n",
       "</table>\n",
       "</div>"
      ],
      "text/plain": [
       "           FECHA   ID_ASESOR USER_ASESOR  TIEMPO_HABLADO  \\\n",
       "46035 2024-10-31  57270073-9  mcastillaj               3   \n",
       "11100 2024-10-23  57293754-2    jgarciat            2335   \n",
       "\n",
       "                    ASTERISKCALLID    CALLCENTER  \\\n",
       "46035  S2-AST05P-1730422723.583456  IBR Colombia   \n",
       "11100  S2-AST01P-1729711453.491833   TP Colombia   \n",
       "\n",
       "                                  SUPER_LLAVE  \n",
       "46035    2024-10-31_57270073-9_3_IBR Colombia  \n",
       "11100  2024-10-23_57293754-2_2335_TP Colombia  "
      ]
     },
     "execution_count": 23,
     "metadata": {},
     "output_type": "execute_result"
    }
   ],
   "source": [
    "traza_rete.sample(2)"
   ]
  },
  {
   "cell_type": "code",
   "execution_count": 24,
   "id": "59efb49f-b328-4d1c-ae45-d4e7c7df0b0c",
   "metadata": {},
   "outputs": [],
   "source": [
    "escuchas['SUPER_LLAVE'] = (\n",
    "    escuchas['FECHA_LLAMADO'].astype(str) + \"_\" + \n",
    "    escuchas['ID_ASESOR'].astype(str) + \"_\" + \n",
    "    escuchas['TIEMPO_HABLADO'].astype(str) + \"_\" + \n",
    "    escuchas['CALLCENTER'].astype(str)\n",
    ")"
   ]
  },
  {
   "cell_type": "code",
   "execution_count": 26,
   "id": "4ea6672e-f111-48fa-bc31-68476440562b",
   "metadata": {},
   "outputs": [
    {
     "data": {
      "text/html": [
       "<div>\n",
       "<style scoped>\n",
       "    .dataframe tbody tr th:only-of-type {\n",
       "        vertical-align: middle;\n",
       "    }\n",
       "\n",
       "    .dataframe tbody tr th {\n",
       "        vertical-align: top;\n",
       "    }\n",
       "\n",
       "    .dataframe thead th {\n",
       "        text-align: right;\n",
       "    }\n",
       "</style>\n",
       "<table border=\"1\" class=\"dataframe\">\n",
       "  <thead>\n",
       "    <tr style=\"text-align: right;\">\n",
       "      <th></th>\n",
       "      <th>RUT_CLIENTE</th>\n",
       "      <th>FECHA_LLAMADO</th>\n",
       "      <th>ID_ASESOR</th>\n",
       "      <th>USER_ASESOR</th>\n",
       "      <th>TIEMPO_HABLADO</th>\n",
       "      <th>CALLCENTER</th>\n",
       "      <th>X_OCS_TIPO_RED_PROD</th>\n",
       "      <th>Tipo Actividad</th>\n",
       "      <th>NEUTRA</th>\n",
       "      <th>RAZON</th>\n",
       "      <th>DETALLE_RAZON</th>\n",
       "      <th>SUPER_LLAVE</th>\n",
       "    </tr>\n",
       "  </thead>\n",
       "  <tbody>\n",
       "    <tr>\n",
       "      <th>33</th>\n",
       "      <td>0013636565-7</td>\n",
       "      <td>2024-10-24</td>\n",
       "      <td>57297144-9</td>\n",
       "      <td>vescuderot</td>\n",
       "      <td>1543</td>\n",
       "      <td>IBR Colombia</td>\n",
       "      <td>NFTT</td>\n",
       "      <td>NaN</td>\n",
       "      <td>VENTA</td>\n",
       "      <td>Servicio Comercial</td>\n",
       "      <td>Boleta excesiva o incorrecta</td>\n",
       "      <td>2024-10-24_57297144-9_1543_IBR Colombia</td>\n",
       "    </tr>\n",
       "    <tr>\n",
       "      <th>40</th>\n",
       "      <td>0015231964-9</td>\n",
       "      <td>2024-10-25</td>\n",
       "      <td>57250170-1</td>\n",
       "      <td>itorregrosa</td>\n",
       "      <td>2262</td>\n",
       "      <td>IBR Colombia</td>\n",
       "      <td>NFTT</td>\n",
       "      <td>Migración</td>\n",
       "      <td>MIGRACION</td>\n",
       "      <td>Servicio técnico</td>\n",
       "      <td>Servicio técnico deficiente</td>\n",
       "      <td>2024-10-25_57250170-1_2262_IBR Colombia</td>\n",
       "    </tr>\n",
       "  </tbody>\n",
       "</table>\n",
       "</div>"
      ],
      "text/plain": [
       "     RUT_CLIENTE FECHA_LLAMADO   ID_ASESOR  USER_ASESOR  TIEMPO_HABLADO  \\\n",
       "33  0013636565-7    2024-10-24  57297144-9   vescuderot            1543   \n",
       "40  0015231964-9    2024-10-25  57250170-1  itorregrosa            2262   \n",
       "\n",
       "      CALLCENTER X_OCS_TIPO_RED_PROD Tipo Actividad     NEUTRA  \\\n",
       "33  IBR Colombia                NFTT            NaN      VENTA   \n",
       "40  IBR Colombia                NFTT      Migración  MIGRACION   \n",
       "\n",
       "                 RAZON                 DETALLE_RAZON  \\\n",
       "33  Servicio Comercial  Boleta excesiva o incorrecta   \n",
       "40    Servicio técnico   Servicio técnico deficiente   \n",
       "\n",
       "                                SUPER_LLAVE  \n",
       "33  2024-10-24_57297144-9_1543_IBR Colombia  \n",
       "40  2024-10-25_57250170-1_2262_IBR Colombia  "
      ]
     },
     "execution_count": 26,
     "metadata": {},
     "output_type": "execute_result"
    }
   ],
   "source": [
    "escuchas.sample(2)"
   ]
  },
  {
   "cell_type": "code",
   "execution_count": 27,
   "id": "0c807700-b3e0-4332-a476-748c87bced7d",
   "metadata": {},
   "outputs": [],
   "source": [
    "escuchas = escuchas.merge(traza_rete[['SUPER_LLAVE', 'ASTERISKCALLID']], \n",
    "                          on='SUPER_LLAVE', \n",
    "                          how='left')"
   ]
  },
  {
   "cell_type": "code",
   "execution_count": 28,
   "id": "2f5271f1-3bd6-4235-b34a-350b61b2ef2f",
   "metadata": {},
   "outputs": [
    {
     "data": {
      "text/html": [
       "<div>\n",
       "<style scoped>\n",
       "    .dataframe tbody tr th:only-of-type {\n",
       "        vertical-align: middle;\n",
       "    }\n",
       "\n",
       "    .dataframe tbody tr th {\n",
       "        vertical-align: top;\n",
       "    }\n",
       "\n",
       "    .dataframe thead th {\n",
       "        text-align: right;\n",
       "    }\n",
       "</style>\n",
       "<table border=\"1\" class=\"dataframe\">\n",
       "  <thead>\n",
       "    <tr style=\"text-align: right;\">\n",
       "      <th></th>\n",
       "      <th>RUT_CLIENTE</th>\n",
       "      <th>FECHA_LLAMADO</th>\n",
       "      <th>ID_ASESOR</th>\n",
       "      <th>USER_ASESOR</th>\n",
       "      <th>TIEMPO_HABLADO</th>\n",
       "      <th>CALLCENTER</th>\n",
       "      <th>X_OCS_TIPO_RED_PROD</th>\n",
       "      <th>Tipo Actividad</th>\n",
       "      <th>NEUTRA</th>\n",
       "      <th>RAZON</th>\n",
       "      <th>DETALLE_RAZON</th>\n",
       "      <th>SUPER_LLAVE</th>\n",
       "      <th>ASTERISKCALLID</th>\n",
       "    </tr>\n",
       "  </thead>\n",
       "  <tbody>\n",
       "    <tr>\n",
       "      <th>0</th>\n",
       "      <td>0004466226-4</td>\n",
       "      <td>2024-10-18</td>\n",
       "      <td>57276623-3</td>\n",
       "      <td>clreyes</td>\n",
       "      <td>1438</td>\n",
       "      <td>TP Colombia</td>\n",
       "      <td>NFTT</td>\n",
       "      <td>Migración</td>\n",
       "      <td>MIGRACION</td>\n",
       "      <td>Servicio técnico</td>\n",
       "      <td>Servicio técnico deficiente</td>\n",
       "      <td>2024-10-18_57276623-3_1438_TP Colombia</td>\n",
       "      <td>S2-AST03P-1729297603.435172</td>\n",
       "    </tr>\n",
       "    <tr>\n",
       "      <th>1</th>\n",
       "      <td>0005340254-2</td>\n",
       "      <td>2024-10-14</td>\n",
       "      <td>57273664-4</td>\n",
       "      <td>digaleano</td>\n",
       "      <td>1352</td>\n",
       "      <td>TP Colombia</td>\n",
       "      <td>NFTT</td>\n",
       "      <td>Migración</td>\n",
       "      <td>MIGRACION</td>\n",
       "      <td>Servicio técnico</td>\n",
       "      <td>Servicio técnico deficiente</td>\n",
       "      <td>2024-10-14_57273664-4_1352_TP Colombia</td>\n",
       "      <td>S2-AST03P-1728917231.369019</td>\n",
       "    </tr>\n",
       "    <tr>\n",
       "      <th>2</th>\n",
       "      <td>0005340254-2</td>\n",
       "      <td>2024-10-14</td>\n",
       "      <td>57273664-4</td>\n",
       "      <td>digaleano</td>\n",
       "      <td>1352</td>\n",
       "      <td>TP Colombia</td>\n",
       "      <td>NFTT</td>\n",
       "      <td>Migración</td>\n",
       "      <td>MIGRACION</td>\n",
       "      <td>Servicio técnico</td>\n",
       "      <td>Servicio técnico deficiente</td>\n",
       "      <td>2024-10-14_57273664-4_1352_TP Colombia</td>\n",
       "      <td>S2-AST05P-1728922270.369133</td>\n",
       "    </tr>\n",
       "    <tr>\n",
       "      <th>3</th>\n",
       "      <td>0005474157-K</td>\n",
       "      <td>2024-10-30</td>\n",
       "      <td>57276634-9</td>\n",
       "      <td>dagonzalezp</td>\n",
       "      <td>1967</td>\n",
       "      <td>TP Colombia</td>\n",
       "      <td>NFTT</td>\n",
       "      <td>Migración</td>\n",
       "      <td>MIGRACION</td>\n",
       "      <td>Servicio Comercial</td>\n",
       "      <td>Boleta excesiva o incorrecta</td>\n",
       "      <td>2024-10-30_57276634-9_1967_TP Colombia</td>\n",
       "      <td>S2-AST01P-1730309106.572245</td>\n",
       "    </tr>\n",
       "    <tr>\n",
       "      <th>4</th>\n",
       "      <td>0006009572-8</td>\n",
       "      <td>2024-10-14</td>\n",
       "      <td>57286479-0</td>\n",
       "      <td>adurangom</td>\n",
       "      <td>966</td>\n",
       "      <td>IBR Colombia</td>\n",
       "      <td>NFTT</td>\n",
       "      <td>Migración</td>\n",
       "      <td>MIGRACION</td>\n",
       "      <td>Servicio técnico</td>\n",
       "      <td>No funciona como lo esperado</td>\n",
       "      <td>2024-10-14_57286479-0_966_IBR Colombia</td>\n",
       "      <td>S2-AST04P-1728920383.368558</td>\n",
       "    </tr>\n",
       "    <tr>\n",
       "      <th>...</th>\n",
       "      <td>...</td>\n",
       "      <td>...</td>\n",
       "      <td>...</td>\n",
       "      <td>...</td>\n",
       "      <td>...</td>\n",
       "      <td>...</td>\n",
       "      <td>...</td>\n",
       "      <td>...</td>\n",
       "      <td>...</td>\n",
       "      <td>...</td>\n",
       "      <td>...</td>\n",
       "      <td>...</td>\n",
       "      <td>...</td>\n",
       "    </tr>\n",
       "    <tr>\n",
       "      <th>70</th>\n",
       "      <td>0025350004-2</td>\n",
       "      <td>2024-10-03</td>\n",
       "      <td>57276613-6</td>\n",
       "      <td>lgalvisg</td>\n",
       "      <td>1353</td>\n",
       "      <td>TP Colombia</td>\n",
       "      <td>NFTT</td>\n",
       "      <td>Migración</td>\n",
       "      <td>MIGRACION</td>\n",
       "      <td>Servicio técnico</td>\n",
       "      <td>Servicio técnico deficiente</td>\n",
       "      <td>2024-10-03_57276613-6_1353_TP Colombia</td>\n",
       "      <td>S2-AST04P-1727987061.235322</td>\n",
       "    </tr>\n",
       "    <tr>\n",
       "      <th>71</th>\n",
       "      <td>0026098882-4</td>\n",
       "      <td>2024-10-11</td>\n",
       "      <td>57281638-9</td>\n",
       "      <td>cbetancourtc</td>\n",
       "      <td>2325</td>\n",
       "      <td>Fastco Col</td>\n",
       "      <td>NFTT</td>\n",
       "      <td>NaN</td>\n",
       "      <td>VENTA</td>\n",
       "      <td>Producto y Propuesta de Valor</td>\n",
       "      <td>No puede pagar</td>\n",
       "      <td>2024-10-11_57281638-9_2325_Fastco Col</td>\n",
       "      <td>S2-AST05P-1728661812.343959</td>\n",
       "    </tr>\n",
       "    <tr>\n",
       "      <th>72</th>\n",
       "      <td>0027314452-8</td>\n",
       "      <td>2024-10-21</td>\n",
       "      <td>57283167-1</td>\n",
       "      <td>mkgomez</td>\n",
       "      <td>2395</td>\n",
       "      <td>IBR Colombia</td>\n",
       "      <td>NFTT</td>\n",
       "      <td>NaN</td>\n",
       "      <td>VENTA</td>\n",
       "      <td>Producto y Propuesta de Valor</td>\n",
       "      <td>No puede pagar</td>\n",
       "      <td>2024-10-21_57283167-1_2395_IBR Colombia</td>\n",
       "      <td>S2-AST01P-1729530598.459501</td>\n",
       "    </tr>\n",
       "    <tr>\n",
       "      <th>73</th>\n",
       "      <td>0027967589-4</td>\n",
       "      <td>2024-10-28</td>\n",
       "      <td>53325555-8</td>\n",
       "      <td>nzuniga</td>\n",
       "      <td>1103</td>\n",
       "      <td>TP Colombia</td>\n",
       "      <td>NFTT</td>\n",
       "      <td>Repa</td>\n",
       "      <td>VENTA</td>\n",
       "      <td>Servicio técnico</td>\n",
       "      <td>No funciona como lo esperado</td>\n",
       "      <td>2024-10-28_53325555-8_1103_TP Colombia</td>\n",
       "      <td>S2-AST02P-1730148215.547364</td>\n",
       "    </tr>\n",
       "    <tr>\n",
       "      <th>74</th>\n",
       "      <td>0077808086-9</td>\n",
       "      <td>2024-10-09</td>\n",
       "      <td>57293740-2</td>\n",
       "      <td>luecheverrym</td>\n",
       "      <td>1461</td>\n",
       "      <td>TP Colombia</td>\n",
       "      <td>NFTT</td>\n",
       "      <td>Alta</td>\n",
       "      <td>VENTA</td>\n",
       "      <td>Servicio Comercial</td>\n",
       "      <td>Boleta excesiva o incorrecta</td>\n",
       "      <td>2024-10-09_57293740-2_1461_TP Colombia</td>\n",
       "      <td>S2-AST02P-1728503672.321550</td>\n",
       "    </tr>\n",
       "  </tbody>\n",
       "</table>\n",
       "<p>75 rows × 13 columns</p>\n",
       "</div>"
      ],
      "text/plain": [
       "     RUT_CLIENTE FECHA_LLAMADO   ID_ASESOR   USER_ASESOR  TIEMPO_HABLADO  \\\n",
       "0   0004466226-4    2024-10-18  57276623-3       clreyes            1438   \n",
       "1   0005340254-2    2024-10-14  57273664-4     digaleano            1352   \n",
       "2   0005340254-2    2024-10-14  57273664-4     digaleano            1352   \n",
       "3   0005474157-K    2024-10-30  57276634-9   dagonzalezp            1967   \n",
       "4   0006009572-8    2024-10-14  57286479-0     adurangom             966   \n",
       "..           ...           ...         ...           ...             ...   \n",
       "70  0025350004-2    2024-10-03  57276613-6      lgalvisg            1353   \n",
       "71  0026098882-4    2024-10-11  57281638-9  cbetancourtc            2325   \n",
       "72  0027314452-8    2024-10-21  57283167-1       mkgomez            2395   \n",
       "73  0027967589-4    2024-10-28  53325555-8       nzuniga            1103   \n",
       "74  0077808086-9    2024-10-09  57293740-2  luecheverrym            1461   \n",
       "\n",
       "      CALLCENTER X_OCS_TIPO_RED_PROD Tipo Actividad     NEUTRA  \\\n",
       "0    TP Colombia                NFTT      Migración  MIGRACION   \n",
       "1    TP Colombia                NFTT      Migración  MIGRACION   \n",
       "2    TP Colombia                NFTT      Migración  MIGRACION   \n",
       "3    TP Colombia                NFTT      Migración  MIGRACION   \n",
       "4   IBR Colombia                NFTT      Migración  MIGRACION   \n",
       "..           ...                 ...            ...        ...   \n",
       "70   TP Colombia                NFTT      Migración  MIGRACION   \n",
       "71    Fastco Col                NFTT            NaN      VENTA   \n",
       "72  IBR Colombia                NFTT            NaN      VENTA   \n",
       "73   TP Colombia                NFTT           Repa      VENTA   \n",
       "74   TP Colombia                NFTT           Alta      VENTA   \n",
       "\n",
       "                            RAZON                 DETALLE_RAZON  \\\n",
       "0                Servicio técnico   Servicio técnico deficiente   \n",
       "1                Servicio técnico   Servicio técnico deficiente   \n",
       "2                Servicio técnico   Servicio técnico deficiente   \n",
       "3              Servicio Comercial  Boleta excesiva o incorrecta   \n",
       "4                Servicio técnico  No funciona como lo esperado   \n",
       "..                            ...                           ...   \n",
       "70               Servicio técnico   Servicio técnico deficiente   \n",
       "71  Producto y Propuesta de Valor                No puede pagar   \n",
       "72  Producto y Propuesta de Valor                No puede pagar   \n",
       "73               Servicio técnico  No funciona como lo esperado   \n",
       "74             Servicio Comercial  Boleta excesiva o incorrecta   \n",
       "\n",
       "                                SUPER_LLAVE               ASTERISKCALLID  \n",
       "0    2024-10-18_57276623-3_1438_TP Colombia  S2-AST03P-1729297603.435172  \n",
       "1    2024-10-14_57273664-4_1352_TP Colombia  S2-AST03P-1728917231.369019  \n",
       "2    2024-10-14_57273664-4_1352_TP Colombia  S2-AST05P-1728922270.369133  \n",
       "3    2024-10-30_57276634-9_1967_TP Colombia  S2-AST01P-1730309106.572245  \n",
       "4    2024-10-14_57286479-0_966_IBR Colombia  S2-AST04P-1728920383.368558  \n",
       "..                                      ...                          ...  \n",
       "70   2024-10-03_57276613-6_1353_TP Colombia  S2-AST04P-1727987061.235322  \n",
       "71    2024-10-11_57281638-9_2325_Fastco Col  S2-AST05P-1728661812.343959  \n",
       "72  2024-10-21_57283167-1_2395_IBR Colombia  S2-AST01P-1729530598.459501  \n",
       "73   2024-10-28_53325555-8_1103_TP Colombia  S2-AST02P-1730148215.547364  \n",
       "74   2024-10-09_57293740-2_1461_TP Colombia  S2-AST02P-1728503672.321550  \n",
       "\n",
       "[75 rows x 13 columns]"
      ]
     },
     "execution_count": 28,
     "metadata": {},
     "output_type": "execute_result"
    }
   ],
   "source": [
    "escuchas"
   ]
  },
  {
   "cell_type": "code",
   "execution_count": 29,
   "id": "22a7be09-ac68-41c6-9f8d-04e6e73e0285",
   "metadata": {},
   "outputs": [
    {
     "name": "stdout",
     "output_type": "stream",
     "text": [
      "Archivo guardado en: C:\\Users\\wduran\\OneDrive - CLAROCHILE\\Team Churn Fijo\\Will Docs\\Pedidos Varios\\Audios EPS Migraciones.xlsx\n"
     ]
    }
   ],
   "source": [
    "output_path = r\"C:\\Users\\wduran\\OneDrive - CLAROCHILE\\Team Churn Fijo\\Will Docs\\Pedidos Varios\\Audios EPS Migraciones.xlsx\"\n",
    "escuchas.to_excel(output_path, index=False)\n",
    "print(f\"Archivo guardado en: {output_path}\")"
   ]
  },
  {
   "cell_type": "markdown",
   "id": "79b1339e-d76c-4ef5-ad38-d153d7a633bf",
   "metadata": {},
   "source": [
    "# CUADRO RESUMEN OPERACIONES "
   ]
  },
  {
   "cell_type": "code",
   "execution_count": null,
   "id": "a55a30b4-730c-4706-8005-2bb4a1a6ace3",
   "metadata": {},
   "outputs": [],
   "source": []
  }
 ],
 "metadata": {
  "kernelspec": {
   "display_name": "Python 3 (ipykernel)",
   "language": "python",
   "name": "python3"
  },
  "language_info": {
   "codemirror_mode": {
    "name": "ipython",
    "version": 3
   },
   "file_extension": ".py",
   "mimetype": "text/x-python",
   "name": "python",
   "nbconvert_exporter": "python",
   "pygments_lexer": "ipython3",
   "version": "3.12.3"
  }
 },
 "nbformat": 4,
 "nbformat_minor": 5
}
