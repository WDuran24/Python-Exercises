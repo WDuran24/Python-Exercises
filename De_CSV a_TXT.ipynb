{
 "cells": [
  {
   "cell_type": "code",
   "execution_count": null,
   "id": "a3d3f6dd-9342-4659-b208-07d1ceed6b85",
   "metadata": {},
   "outputs": [],
   "source": [
    "import csv\n",
    "\n",
    "csv_file = \"C:\\\\Users\\\\wduran\\\\Downloads\\\\antiguedad.csv\"\n",
    "txt_file = \"C:\\\\Users\\\\wduran\\\\Downloads\\\\antiguedad.txt\"\n",
    "\n",
    "with open(csv_file, 'r') as csvfile:\n",
    "    csvreader = csv.reader(csvfile)\n",
    "    \n",
    "    with open(txt_file, 'w') as txtfile:\n",
    "        for row in csvreader:\n",
    "            txtfile.write('\\t'.join(row) + '\\n')"
   ]
  }
 ],
 "metadata": {
  "kernelspec": {
   "display_name": "Python 3 (ipykernel)",
   "language": "python",
   "name": "python3"
  },
  "language_info": {
   "codemirror_mode": {
    "name": "ipython",
    "version": 3
   },
   "file_extension": ".py",
   "mimetype": "text/x-python",
   "name": "python",
   "nbconvert_exporter": "python",
   "pygments_lexer": "ipython3",
   "version": "3.11.5"
  }
 },
 "nbformat": 4,
 "nbformat_minor": 5
}
