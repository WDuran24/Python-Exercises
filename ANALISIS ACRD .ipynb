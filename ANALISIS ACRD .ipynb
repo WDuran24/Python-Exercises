{
 "cells": [
  {
   "cell_type": "code",
   "execution_count": 1,
   "id": "f879f1a4-594c-4cb2-9b7d-aab685d3f330",
   "metadata": {},
   "outputs": [],
   "source": [
    "import pandas as pd\n"
   ]
  },
  {
   "cell_type": "code",
   "execution_count": 2,
   "id": "5d07be36-24cc-4c27-a727-521022226565",
   "metadata": {},
   "outputs": [],
   "source": [
    "# Cargar las bases de datos\n",
    "df_acreditaciones = pd.read_excel(r\"C:\\Users\\wduran\\CLAROCHILE\\Nicoll Constanza Aguirre Diaz - dcabello\\Isa\\Bases análisis stock\\Analisis Acreditaciones.xlsx\")  \n",
    "df_ddss = pd.read_excel(r\"C:\\Users\\wduran\\CLAROCHILE\\Nicoll Constanza Aguirre Diaz - dcabello\\Isa\\Bases análisis stock\\Base acreditaciones DSS\\DSS\\DDSS 2023 base consolidada Ene-Sep.xlsx\") "
   ]
  },
  {
   "cell_type": "code",
   "execution_count": 3,
   "id": "cb7efd09-2a4a-43d8-8af5-804bc3f8e5e1",
   "metadata": {},
   "outputs": [],
   "source": [
    "\n",
    "# Realizar el join por el campo 'RUT'\n",
    "df_resultado = pd.merge(df_ddss, df_acreditaciones, how='inner', on='RUT')\n",
    "\n",
    "# Eliminar registros duplicados basados en HORA, MES, RUT\n",
    "df_resultado = df_resultado.drop_duplicates(subset=['HORA', 'MES', 'RUT'])\n",
    "\n",
    "# Guardar el resultado en un archivo Excel\n",
    "df_resultado.to_excel('resultado_final_DDSS.xlsx', index=False)\n"
   ]
  },
  {
   "cell_type": "code",
   "execution_count": 40,
   "id": "7b861a53-5520-4d99-b5f7-bb2f8aafe404",
   "metadata": {},
   "outputs": [],
   "source": [
    "# Cargar las bases de datos\n",
    "\n",
    "df_fallaM = pd.read_csv(r\"C:\\Users\\wduran\\Downloads\\Falla_masiva_Consolidado.txt\", sep=\"\\t\", encoding='latin-1')\n",
    "df_acreditaciones = pd.read_excel(r\"C:\\Users\\wduran\\CLAROCHILE\\Nicoll Constanza Aguirre Diaz - dcabello\\Isa\\Bases análisis stock\\Analisis Acreditaciones.xlsx\")  \n"
   ]
  },
  {
   "cell_type": "code",
   "execution_count": 45,
   "id": "e4842655-9f02-46fd-a881-0372403d6260",
   "metadata": {},
   "outputs": [
    {
     "name": "stdout",
     "output_type": "stream",
     "text": [
      "mes         abr-23  ago-23  ene-23  feb-23  jul-23  jun-23  mar-23  may-23  \\\n",
      "RUT                                                                          \n",
      "10000002-4       2       1       2       1       1       2       2       2   \n",
      "10000158-6       1       1       3       1       1       0       0       0   \n",
      "10000334-1       0       1       0       0       1       0       0       0   \n",
      "10000441-0       0       1       1       1       0       0       1       0   \n",
      "10000483-6       1       1       2       2       0       1       1       1   \n",
      "...            ...     ...     ...     ...     ...     ...     ...     ...   \n",
      "9999921-7        1       1       2       2       1       0       1       0   \n",
      "9999930-6        0       1       1       1       1       1       1       0   \n",
      "9999952-7        1       0       2       1       0       0       0       0   \n",
      "9999969-1        1       0       0       1       0       2       0       1   \n",
      "9999990-K        0       0       0       0       1       0       0       0   \n",
      "\n",
      "mes         sept-23  \n",
      "RUT                  \n",
      "10000002-4        1  \n",
      "10000158-6        0  \n",
      "10000334-1        1  \n",
      "10000441-0        2  \n",
      "10000483-6        0  \n",
      "...             ...  \n",
      "9999921-7         0  \n",
      "9999930-6         0  \n",
      "9999952-7         0  \n",
      "9999969-1         0  \n",
      "9999990-K         0  \n",
      "\n",
      "[258702 rows x 9 columns]\n"
     ]
    }
   ],
   "source": [
    "\n",
    "# Realizar el join por el campo 'rut'\n",
    "df_resultado = pd.merge(df_acreditaciones, df_fallaM, how='inner', on='RUT')\n",
    "\n",
    "# Crear un campo nuevo llamado 'Visita_Tec' con el conteo de repeticiones por mes\n",
    "df_resultado['falla_masiva'] = df_resultado.groupby(['RUT', 'mes']).transform('size')\n",
    "\n",
    "# Eliminar registros duplicados basados en HORA, MES, RUT\n",
    "df_resultado = df_resultado.drop_duplicates(subset=[ 'flag'])\n",
    "\n",
    "# Pivote sin cambiar el índice\n",
    "df_pivot = df_resultado.pivot_table(index=['RUT'], columns='mes', values='falla_masiva', aggfunc='size', fill_value=0)\n",
    "\n",
    "# Mostrar el resultado con RUTs en filas y nombres del mes en columnas\n",
    "print(df_pivot)\n",
    "\n",
    "df_pivot.reset_index(inplace=True)  # Agregar esta línea para resetear el índice y mostrar 'RUT' como columna\n",
    "\n",
    "df_pivot.to_excel('falla_masiva.xlsx', index=False)\n",
    "\n",
    "\n",
    "\n"
   ]
  },
  {
   "cell_type": "code",
   "execution_count": 19,
   "id": "15265022-ea1a-4a95-b742-fc586185c0a7",
   "metadata": {},
   "outputs": [],
   "source": [
    "# Cargar las bases de datos\n",
    "df_acreditaciones = pd.read_excel(r\"C:\\Users\\wduran\\CLAROCHILE\\Nicoll Constanza Aguirre Diaz - dcabello\\Isa\\Bases análisis stock\\Analisis Acreditaciones.xlsx\")  \n",
    "df_Visita_Tec = pd.read_excel(r\"C:\\Users\\wduran\\Downloads\\visita tecnica.xlsx\")"
   ]
  },
  {
   "cell_type": "code",
   "execution_count": 20,
   "id": "0e9e7481-af16-4363-9eb1-03410ac78701",
   "metadata": {},
   "outputs": [
    {
     "name": "stdout",
     "output_type": "stream",
     "text": [
      "mes         2023-1  2023-2  2023-3  2023-4  2023-5  2023-6  2023-7  2023-8  \\\n",
      "RUT                                                                          \n",
      "10000002-4       1       0       0       1       0       0       0       0   \n",
      "10000158-6       0       0       1       0       0       0       0       0   \n",
      "10000334-1       0       0       0       0       0       0       1       0   \n",
      "10000441-0       0       0       0       0       0       0       0       1   \n",
      "10000483-6       0       1       0       0       1       0       1       1   \n",
      "...            ...     ...     ...     ...     ...     ...     ...     ...   \n",
      "9999921-7        0       0       0       0       0       1       0       0   \n",
      "9999930-6        0       0       0       0       0       0       1       0   \n",
      "9999952-7        0       0       0       0       1       0       0       0   \n",
      "9999969-1        0       0       0       0       0       0       1       0   \n",
      "9999990-K        0       0       0       0       0       0       0       0   \n",
      "\n",
      "mes         2023-9  \n",
      "RUT                 \n",
      "10000002-4       0  \n",
      "10000158-6       0  \n",
      "10000334-1       0  \n",
      "10000441-0       0  \n",
      "10000483-6       0  \n",
      "...            ...  \n",
      "9999921-7        0  \n",
      "9999930-6        0  \n",
      "9999952-7        0  \n",
      "9999969-1        0  \n",
      "9999990-K        1  \n",
      "\n",
      "[259476 rows x 9 columns]\n"
     ]
    }
   ],
   "source": [
    "\n",
    "# Realizar el join por el campo 'rut'\n",
    "df_resultado = pd.merge(df_acreditaciones, df_Visita_Tec, how='inner', on='RUT')\n",
    "\n",
    "# Crear un campo nuevo llamado 'Visita_Tec' con el conteo de repeticiones por mes\n",
    "df_resultado['Visita_Tec'] = df_resultado.groupby(['RUT', 'mes']).transform('size')\n",
    "\n",
    "# Eliminar registros duplicados basados en HORA, MES, RUT\n",
    "df_resultado = df_resultado.drop_duplicates(subset=[ 'mes', 'RUT'])\n",
    "\n",
    "# Pivote sin cambiar el índice\n",
    "df_pivot = df_resultado.pivot_table(index=['RUT'], columns='mes', values='Visita_Tec', aggfunc='size', fill_value=0)\n",
    "\n",
    "# Mostrar el resultado con RUTs en filas y nombres del mes en columnas\n",
    "print(df_pivot)\n",
    "\n",
    "df_pivot.reset_index(inplace=True)  # Agregar esta línea para resetear el índice y mostrar 'RUT' como columna\n",
    "\n",
    "df_pivot.to_excel('resultado_Visita_Tec.xlsx', index=False)"
   ]
  }
 ],
 "metadata": {
  "kernelspec": {
   "display_name": "Python 3 (ipykernel)",
   "language": "python",
   "name": "python3"
  },
  "language_info": {
   "codemirror_mode": {
    "name": "ipython",
    "version": 3
   },
   "file_extension": ".py",
   "mimetype": "text/x-python",
   "name": "python",
   "nbconvert_exporter": "python",
   "pygments_lexer": "ipython3",
   "version": "3.11.5"
  }
 },
 "nbformat": 4,
 "nbformat_minor": 5
}
