{
 "cells": [
  {
   "cell_type": "code",
   "execution_count": 3,
   "id": "fb9963bb-c02e-4fd3-a9dd-22b363114313",
   "metadata": {},
   "outputs": [],
   "source": [
    "import pandas as pd\n",
    "import os\n",
    "\n",
    "# Cargar la hoja de Excel en un DataFrame\n",
    "tabla_E = pd.read_csv(r\"C:\\Users\\wduran\\CLAROCHILE\\Nicoll Constanza Aguirre Diaz - dcabello\\Claro\\Tabla E Claro\\202310_TablaE_Claro.csv\", sep=\";\", encoding='latin-1')\n",
    "\n",
    "# Crear la columna 'BUNDLE' con valores predeterminados\n",
    "tabla_E['BUNDLE'] = ''\n",
    "\n",
    "# Aplicar la lógica para llenar la columna 'BUNDLE'\n",
    "for index, row in tabla_E.iterrows():\n",
    "    bundle = ''\n",
    "    if not pd.isnull(row['ID_CABLE']):\n",
    "        bundle += 'C'\n",
    "    if not pd.isnull(row['ID_INTERNET']):\n",
    "        bundle += 'I'\n",
    "    if not pd.isnull(row['ID_FONO']):\n",
    "        bundle += 'F'\n",
    "\n",
    "    if bundle == 'CI':\n",
    "        bundle = 'C + I'\n",
    "    elif bundle == 'FI':\n",
    "        bundle = 'F + I'\n",
    "    elif bundle == 'CF':\n",
    "        bundle = 'C + F'\n",
    "    elif bundle == 'CFI':\n",
    "        bundle = 'C + F + I'\n",
    "    elif not pd.isnull(row['ID_FONO']) and not pd.isnull(row['ID_CABLE']):\n",
    "        bundle = 'I'\n",
    "    elif not pd.isnull(row['ID_INTERNET']) and not pd.isnull(row['ID_CABLE']):\n",
    "        bundle = 'F'\n",
    "    elif not pd.isnull(row['ID_INTERNET']) and not pd.isnull(row['ID_FONO']):\n",
    "        bundle = 'C'\n",
    "\n",
    "    # Actualizar el valor en la columna 'BUNDLE'\n",
    "    tabla_E.at[index, 'BUNDLE'] = bundle\n",
    "\n",
    "# Obtener la ruta de la carpeta \"Downloads\"\n",
    "carpeta_descargas = os.path.join(os.path.expanduser('~'), 'Downloads')\n",
    "\n",
    "# Guardar el DataFrame actualizado en la carpeta \"Downloads\" como un archivo Excel\n",
    "ruta_excel_salida = os.path.join(carpeta_descargas, 'tabla_E_actualizada.xlsx')\n",
    "tabla_E.to_excel(ruta_excel_salida, index=False)\n",
    "\n",
    "\n",
    "\n"
   ]
  },
  {
   "cell_type": "code",
   "execution_count": null,
   "id": "eeb6ec3e-6017-4435-8349-6d21d311b5fb",
   "metadata": {},
   "outputs": [],
   "source": []
  }
 ],
 "metadata": {
  "kernelspec": {
   "display_name": "Python 3 (ipykernel)",
   "language": "python",
   "name": "python3"
  },
  "language_info": {
   "codemirror_mode": {
    "name": "ipython",
    "version": 3
   },
   "file_extension": ".py",
   "mimetype": "text/x-python",
   "name": "python",
   "nbconvert_exporter": "python",
   "pygments_lexer": "ipython3",
   "version": "3.11.5"
  }
 },
 "nbformat": 4,
 "nbformat_minor": 5
}
