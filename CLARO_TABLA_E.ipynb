{
 "cells": [
  {
   "cell_type": "code",
   "execution_count": 8,
   "id": "cefe1453-c345-40c9-8664-821ac4853164",
   "metadata": {},
   "outputs": [],
   "source": [
    "import pandas as pd\n",
    "import numpy as np\n",
    "import time\n",
    "import seaborn as sns\n",
    "from datetime import datetime, timedelta \n",
    "import sqlite3\n",
    "pd.set_option(\"display.max_columns\", None)\n",
    "import warnings\n",
    "warnings.filterwarnings(\"ignore\")"
   ]
  },
  {
   "cell_type": "code",
   "execution_count": 9,
   "id": "3896f56f-fc3b-4dd4-9f7e-727181128f82",
   "metadata": {
    "tags": []
   },
   "outputs": [],
   "source": [
    "#mes = diciembre\n",
    "#cierre mes = '20221231'\n",
    "def Tabla_e(mes,cierre_mes):   \n",
    "    #Lectura Datos\n",
    "    tabla_e = pd.read_csv(r\"..\\Claro\\Stocks mensuales\\Stock HFC {}.csv\".format(mes))\n",
    "    tabla_e = tabla_e.loc[(tabla_e.ESTADO_SERVICIO == 'Activo')&(tabla_e.ESTADO_CLIENTE == 'Cliente')]\n",
    "    dic = pd.read_excel(r\"Datos-Tabla E CLARO\\DICCIONARIO_V2.xlsb\",sheet_name = 'TODO PLAN HOGAR', engine='pyxlsb')\n",
    "\n",
    "    #correcion codigo plan actual\n",
    "    y = tabla_e.loc[tabla_e.PLAN_NEW.isnull() == True]\n",
    "    y.PLAN_NEW = y.PLAN_CONTRATADO.values\n",
    "    y.CODIGO_PLAN_NEW = y.CODIGO_PLAN.values\n",
    "    x =  tabla_e.loc[tabla_e.PLAN_NEW.isnull() != True]\n",
    "    tabla_e = pd.concat([y,x]).sort_index()\n",
    "\n",
    "    #procesamiento datos\n",
    "    tabla_e= tabla_e.drop(columns=['PLAN_CONTRATADO', 'CODIGO_PLAN','FECHA_INSTALACION_SERVICIO'])\n",
    "    tabla_e = tabla_e.merge(dic[['NOMBRE PLAN','PLAN ID','MONTO PLAN FINAL', 'PLAY','PRECIO_TV $', 'PRECIO_TLF $', 'PRECIOIBA $', 'MONTO MULTISERVICIO',\n",
    "           'DSCTO_MULTISERVICIO_TV -$', 'DSCTO_MULTISERVICIO_TLF -$','DSCTO_MULTISERVICIO_IBA -$', 'DESCUENTO MULTISERVICIO','CLAVE_TV',\n",
    "           'CLAVE_TLF', 'CLAVE_IBA', 'NOMBRE_TV', 'NOMBRE_TLF', 'NOMBRE_IBA','VELOCIDAD INTERNET','TIPO TECNOLOGÍA']], how = 'left', left_on = 'CODIGO_PLAN_NEW',right_on='PLAN ID')\n",
    "\n",
    "\n",
    "    #creacion columnas de descuentos\n",
    "    adq = pd.read_csv(r\"..\\Claro\\INPUTS\\Adquisicion\\Adquisicion Activos\\{} Descuentos Adquisicion Activos.csv\".format(cierre_mes), delimiter = ';')\n",
    "    ret = pd.read_csv(r\"..\\Claro\\INPUTS\\Retencion\\Retencion Activos\\{} Descuentos Retencion Activos.csv\".format(cierre_mes), delimiter = ';')\n",
    "\n",
    "    #renombrar columnas para que quede similar a la data de VTR\n",
    "    tabla_e.rename(columns = {'PLAN_NEW':'NOMBRE_PROMOCION','CODIGO_PLAN_NEW':'ID_PROMO','PLAY':'N_EMPAQUETAMIENTO',\n",
    "                             'PRECIO_TV $':'RENTA_CABLE','PRECIO_TLF $':'RENTA_FONO','PRECIOIBA $':'RENTA_INTERNET','DESCUENTO MULTISERVICIO':'DCTO_MULTISERVICIO',\n",
    "                             'CLAVE_TV':'ID_CABLE','CLAVE_TLF':'ID_FONO','CLAVE_IBA':'ID_INTERNET'},inplace = True)\n",
    "\n",
    "    adq1 = adq.groupby('ID_CLIENTE').agg(VALOR_DESC_ADQUISICION = ('MONTO_DSCTO','sum')).reset_index()\n",
    "    adq1.rename(columns = {'ID_CLIENTE' : 'RUT'}, inplace = True)\n",
    "\n",
    "    ret1 = ret.groupby('ID_CLIENTE').agg(VALOR_DESC_RETENCION = ('MONTO_DSCTO','sum')).reset_index()\n",
    "    ret1.rename(columns = {'ID_CLIENTE' : 'RUT'}, inplace = True)\n",
    "\n",
    "\n",
    "    # merge de columnas de descuento\n",
    "\n",
    "    tabla_e = tabla_e.merge(adq1,how = 'left', on = ['RUT'])\n",
    "    tabla_e = tabla_e.merge(ret1,how = 'left', on = ['RUT'])\n",
    "\n",
    "    tabla_e['VALOR_DESC_ADQUISICION'] = tabla_e['VALOR_DESC_ADQUISICION'].fillna(0)\n",
    "    tabla_e['VALOR_DESC_RETENCION'] = tabla_e['VALOR_DESC_RETENCION'].fillna(0)\n",
    "    tabla_e['RENTA_PRINCIPAL'] = tabla_e['MONTO PLAN FINAL']\n",
    "    tabla_e['RENTA_PRINCIPAL_2'] = tabla_e['RENTA_PRINCIPAL'] + tabla_e['VALOR_DESC_ADQUISICION'] + tabla_e['VALOR_DESC_RETENCION']\n",
    "    tabla_e['N_RGU'] = np.where(tabla_e.N_EMPAQUETAMIENTO == '1 PLAY',1,\n",
    "                            np.where(tabla_e.N_EMPAQUETAMIENTO == '2 PLAY',2,3))\n",
    "\n",
    "    conditions_bundle = [((~tabla_e['ID_CABLE'].isnull()) & (tabla_e['ID_INTERNET'].isnull()) & (tabla_e['ID_FONO'].isnull())),\n",
    "                       ((~tabla_e['ID_CABLE'].isnull()) & (tabla_e['ID_INTERNET'].isnull()) & (~tabla_e['ID_FONO'].isnull())),\n",
    "                       ((~tabla_e['ID_CABLE'].isnull()) & (~tabla_e['ID_INTERNET'].isnull()) & (~tabla_e['ID_FONO'].isnull())),\n",
    "                       ((~tabla_e['ID_CABLE'].isnull()) & (~tabla_e['ID_INTERNET'].isnull()) & (tabla_e['ID_FONO'].isnull())),\n",
    "                       ((tabla_e['ID_CABLE'].isnull()) & (tabla_e['ID_INTERNET'].isnull()) & (~tabla_e['ID_FONO'].isnull())),\n",
    "                       ((tabla_e['ID_CABLE'].isnull()) & (~tabla_e['ID_INTERNET'].isnull()) & (~tabla_e['ID_FONO'].isnull())),\n",
    "                       ((tabla_e['ID_CABLE'].isnull()) & (~tabla_e['ID_INTERNET'].isnull()) & (tabla_e['ID_FONO'].isnull()))]\n",
    "    choices_bundle = ['C', 'C + F', '3PLAY', 'C + I', 'F', 'I + F', 'I']\n",
    "    choices_bundle2 = [1, 2, 3, 2, 1, 2, 1]\n",
    "    tabla_e['BUNDLE'] = np.select(conditions_bundle, choices_bundle, default='-1')\n",
    "    tabla_e['NUM_RGU'] = np.select(conditions_bundle, choices_bundle2, default= 0)\n",
    "\n",
    "    tabla_e['DSCTO_MULTISERVICIO_TV -$'] = tabla_e['DSCTO_MULTISERVICIO_TV -$'].fillna(0)\n",
    "    tabla_e['DSCTO_MULTISERVICIO_TLF -$'] = tabla_e['DSCTO_MULTISERVICIO_TLF -$'].fillna(0)\n",
    "    tabla_e['DSCTO_MULTISERVICIO_IBA -$'] = tabla_e['DSCTO_MULTISERVICIO_IBA -$'].fillna(0)\n",
    "    tabla_e['DCTO_MULTISERVICIO'] = tabla_e['DCTO_MULTISERVICIO'].fillna(0)\n",
    "\n",
    "    tabla_e = tabla_e.loc[(tabla_e['NOMBRE PLAN'].isnull() == False)&(tabla_e.TIPO_CLIENTE == 'PERSONA')]\n",
    "    #transformacion dtypes\n",
    "    tabla_e = tabla_e.astype({\"MONTO PLAN FINAL\":\"int\",\"RENTA_CABLE\":\"int\",\"RENTA_FONO\":\"int\",\"RENTA_INTERNET\":\"int\",\"MONTO MULTISERVICIO\":\"int\",\"DSCTO_MULTISERVICIO_TV -$\":\"int\",\n",
    "                              \"DSCTO_MULTISERVICIO_TLF -$\":\"int\",\"DSCTO_MULTISERVICIO_IBA -$\":\"int\",\"DCTO_MULTISERVICIO\":\"int\",\"VALOR_DESC_ADQUISICION\":\"int\",\n",
    "                              \"VALOR_DESC_RETENCION\":\"int\",\"RENTA_PRINCIPAL\":\"int\",\"RENTA_PRINCIPAL_2\":\"int\",})\n",
    "    tabla_e['RENTA_FONO1'] = tabla_e['RENTA_FONO'] - tabla_e['DSCTO_MULTISERVICIO_TLF -$']\n",
    "    tabla_e['RENTA_CABLE1'] = tabla_e['RENTA_CABLE'] - tabla_e['DSCTO_MULTISERVICIO_TV -$']\n",
    "    tabla_e['RENTA_INTERNET1'] = tabla_e['RENTA_INTERNET'] - tabla_e['DSCTO_MULTISERVICIO_IBA -$']\n",
    "    return tabla_e"
   ]
  },
  {
   "cell_type": "code",
   "execution_count": 10,
   "id": "787931c1-4362-4327-bc21-0e2d822cda21",
   "metadata": {},
   "outputs": [],
   "source": [
    "tabla_e = Tabla_e('abril 2023','20230430')"
   ]
  },
  {
   "cell_type": "code",
   "execution_count": 11,
   "id": "786e2176-f72c-4e8e-8695-5aa275451964",
   "metadata": {},
   "outputs": [],
   "source": [
    "tabla_e.to_csv(r\"..\\Claro\\Tabla E Claro\\202305_TablaE_Claro.csv\",index = False)"
   ]
  },
  {
   "cell_type": "code",
   "execution_count": null,
   "id": "876985f8-43c0-496c-87a6-347f684018c8",
   "metadata": {},
   "outputs": [],
   "source": []
  }
 ],
 "metadata": {
  "kernelspec": {
   "display_name": "Python 3 (ipykernel)",
   "language": "python",
   "name": "python3"
  },
  "language_info": {
   "codemirror_mode": {
    "name": "ipython",
    "version": 3
   },
   "file_extension": ".py",
   "mimetype": "text/x-python",
   "name": "python",
   "nbconvert_exporter": "python",
   "pygments_lexer": "ipython3",
   "version": "3.11.5"
  }
 },
 "nbformat": 4,
 "nbformat_minor": 5
}
